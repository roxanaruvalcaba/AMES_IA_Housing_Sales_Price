{
 "cells": [
  {
   "cell_type": "code",
   "execution_count": 455,
   "metadata": {},
   "outputs": [],
   "source": [
    "import pandas as pd\n",
    "import numpy as np\n",
    "import matplotlib.pyplot as plt\n",
    "import seaborn as sns\n",
    "from sklearn.linear_model import LinearRegression\n",
    "from sklearn.model_selection import train_test_split, cross_val_score\n",
    "import sklearn.metrics as metrics\n",
    "import missingno as msno\n",
    "import statsmodels.api as sm\n",
    "from sklearn.preprocessing import PolynomialFeatures\n",
    "from sklearn.preprocessing import StandardScaler\n",
    "from sklearn.linear_model import Lasso, LassoCV"
   ]
  },
  {
   "cell_type": "markdown",
   "metadata": {},
   "source": [
    "I will begin by importing the train and test data, adding a column that differentiates between both sets, concatenating the two data sets, cleaning the data, and adding transformations and dummy variables as needed.\n",
    "\n",
    "I will then split the data into train and test before creating a model"
   ]
  },
  {
   "cell_type": "markdown",
   "metadata": {},
   "source": [
    "# Data Import"
   ]
  },
  {
   "cell_type": "code",
   "execution_count": 456,
   "metadata": {},
   "outputs": [
    {
     "data": {
      "text/html": [
       "<div>\n",
       "<style scoped>\n",
       "    .dataframe tbody tr th:only-of-type {\n",
       "        vertical-align: middle;\n",
       "    }\n",
       "\n",
       "    .dataframe tbody tr th {\n",
       "        vertical-align: top;\n",
       "    }\n",
       "\n",
       "    .dataframe thead th {\n",
       "        text-align: right;\n",
       "    }\n",
       "</style>\n",
       "<table border=\"1\" class=\"dataframe\">\n",
       "  <thead>\n",
       "    <tr style=\"text-align: right;\">\n",
       "      <th></th>\n",
       "      <th>Id</th>\n",
       "      <th>PID</th>\n",
       "      <th>MS SubClass</th>\n",
       "      <th>MS Zoning</th>\n",
       "      <th>Lot Frontage</th>\n",
       "      <th>Lot Area</th>\n",
       "      <th>Street</th>\n",
       "      <th>Alley</th>\n",
       "      <th>Lot Shape</th>\n",
       "      <th>Land Contour</th>\n",
       "      <th>...</th>\n",
       "      <th>Screen Porch</th>\n",
       "      <th>Pool Area</th>\n",
       "      <th>Pool QC</th>\n",
       "      <th>Fence</th>\n",
       "      <th>Misc Feature</th>\n",
       "      <th>Misc Val</th>\n",
       "      <th>Mo Sold</th>\n",
       "      <th>Yr Sold</th>\n",
       "      <th>Sale Type</th>\n",
       "      <th>SalePrice</th>\n",
       "    </tr>\n",
       "  </thead>\n",
       "  <tbody>\n",
       "    <tr>\n",
       "      <th>0</th>\n",
       "      <td>109</td>\n",
       "      <td>533352170</td>\n",
       "      <td>60</td>\n",
       "      <td>RL</td>\n",
       "      <td>NaN</td>\n",
       "      <td>13517</td>\n",
       "      <td>Pave</td>\n",
       "      <td>NaN</td>\n",
       "      <td>IR1</td>\n",
       "      <td>Lvl</td>\n",
       "      <td>...</td>\n",
       "      <td>0</td>\n",
       "      <td>0</td>\n",
       "      <td>NaN</td>\n",
       "      <td>NaN</td>\n",
       "      <td>NaN</td>\n",
       "      <td>0</td>\n",
       "      <td>3</td>\n",
       "      <td>2010</td>\n",
       "      <td>WD</td>\n",
       "      <td>130500</td>\n",
       "    </tr>\n",
       "    <tr>\n",
       "      <th>1</th>\n",
       "      <td>544</td>\n",
       "      <td>531379050</td>\n",
       "      <td>60</td>\n",
       "      <td>RL</td>\n",
       "      <td>43.0</td>\n",
       "      <td>11492</td>\n",
       "      <td>Pave</td>\n",
       "      <td>NaN</td>\n",
       "      <td>IR1</td>\n",
       "      <td>Lvl</td>\n",
       "      <td>...</td>\n",
       "      <td>0</td>\n",
       "      <td>0</td>\n",
       "      <td>NaN</td>\n",
       "      <td>NaN</td>\n",
       "      <td>NaN</td>\n",
       "      <td>0</td>\n",
       "      <td>4</td>\n",
       "      <td>2009</td>\n",
       "      <td>WD</td>\n",
       "      <td>220000</td>\n",
       "    </tr>\n",
       "  </tbody>\n",
       "</table>\n",
       "<p>2 rows × 81 columns</p>\n",
       "</div>"
      ],
      "text/plain": [
       "    Id        PID  MS SubClass MS Zoning  Lot Frontage  Lot Area Street Alley  \\\n",
       "0  109  533352170           60        RL           NaN     13517   Pave   NaN   \n",
       "1  544  531379050           60        RL          43.0     11492   Pave   NaN   \n",
       "\n",
       "  Lot Shape Land Contour  ... Screen Porch Pool Area Pool QC Fence  \\\n",
       "0       IR1          Lvl  ...            0         0     NaN   NaN   \n",
       "1       IR1          Lvl  ...            0         0     NaN   NaN   \n",
       "\n",
       "  Misc Feature Misc Val Mo Sold Yr Sold  Sale Type  SalePrice  \n",
       "0          NaN        0       3    2010        WD      130500  \n",
       "1          NaN        0       4    2009        WD      220000  \n",
       "\n",
       "[2 rows x 81 columns]"
      ]
     },
     "execution_count": 456,
     "metadata": {},
     "output_type": "execute_result"
    }
   ],
   "source": [
    "# import train data\n",
    "house_train = pd.read_csv('../datasets/train.csv')\n",
    "house_train.head(2)"
   ]
  },
  {
   "cell_type": "code",
   "execution_count": 457,
   "metadata": {},
   "outputs": [
    {
     "data": {
      "text/html": [
       "<div>\n",
       "<style scoped>\n",
       "    .dataframe tbody tr th:only-of-type {\n",
       "        vertical-align: middle;\n",
       "    }\n",
       "\n",
       "    .dataframe tbody tr th {\n",
       "        vertical-align: top;\n",
       "    }\n",
       "\n",
       "    .dataframe thead th {\n",
       "        text-align: right;\n",
       "    }\n",
       "</style>\n",
       "<table border=\"1\" class=\"dataframe\">\n",
       "  <thead>\n",
       "    <tr style=\"text-align: right;\">\n",
       "      <th></th>\n",
       "      <th>Id</th>\n",
       "      <th>PID</th>\n",
       "      <th>MS SubClass</th>\n",
       "      <th>MS Zoning</th>\n",
       "      <th>Lot Frontage</th>\n",
       "      <th>Lot Area</th>\n",
       "      <th>Street</th>\n",
       "      <th>Alley</th>\n",
       "      <th>Lot Shape</th>\n",
       "      <th>Land Contour</th>\n",
       "      <th>...</th>\n",
       "      <th>3Ssn Porch</th>\n",
       "      <th>Screen Porch</th>\n",
       "      <th>Pool Area</th>\n",
       "      <th>Pool QC</th>\n",
       "      <th>Fence</th>\n",
       "      <th>Misc Feature</th>\n",
       "      <th>Misc Val</th>\n",
       "      <th>Mo Sold</th>\n",
       "      <th>Yr Sold</th>\n",
       "      <th>Sale Type</th>\n",
       "    </tr>\n",
       "  </thead>\n",
       "  <tbody>\n",
       "    <tr>\n",
       "      <th>0</th>\n",
       "      <td>2658</td>\n",
       "      <td>902301120</td>\n",
       "      <td>190</td>\n",
       "      <td>RM</td>\n",
       "      <td>69.0</td>\n",
       "      <td>9142</td>\n",
       "      <td>Pave</td>\n",
       "      <td>Grvl</td>\n",
       "      <td>Reg</td>\n",
       "      <td>Lvl</td>\n",
       "      <td>...</td>\n",
       "      <td>0</td>\n",
       "      <td>0</td>\n",
       "      <td>0</td>\n",
       "      <td>NaN</td>\n",
       "      <td>NaN</td>\n",
       "      <td>NaN</td>\n",
       "      <td>0</td>\n",
       "      <td>4</td>\n",
       "      <td>2006</td>\n",
       "      <td>WD</td>\n",
       "    </tr>\n",
       "    <tr>\n",
       "      <th>1</th>\n",
       "      <td>2718</td>\n",
       "      <td>905108090</td>\n",
       "      <td>90</td>\n",
       "      <td>RL</td>\n",
       "      <td>NaN</td>\n",
       "      <td>9662</td>\n",
       "      <td>Pave</td>\n",
       "      <td>NaN</td>\n",
       "      <td>IR1</td>\n",
       "      <td>Lvl</td>\n",
       "      <td>...</td>\n",
       "      <td>0</td>\n",
       "      <td>0</td>\n",
       "      <td>0</td>\n",
       "      <td>NaN</td>\n",
       "      <td>NaN</td>\n",
       "      <td>NaN</td>\n",
       "      <td>0</td>\n",
       "      <td>8</td>\n",
       "      <td>2006</td>\n",
       "      <td>WD</td>\n",
       "    </tr>\n",
       "  </tbody>\n",
       "</table>\n",
       "<p>2 rows × 80 columns</p>\n",
       "</div>"
      ],
      "text/plain": [
       "     Id        PID  MS SubClass MS Zoning  Lot Frontage  Lot Area Street  \\\n",
       "0  2658  902301120          190        RM          69.0      9142   Pave   \n",
       "1  2718  905108090           90        RL           NaN      9662   Pave   \n",
       "\n",
       "  Alley Lot Shape Land Contour  ... 3Ssn Porch Screen Porch Pool Area Pool QC  \\\n",
       "0  Grvl       Reg          Lvl  ...          0            0         0     NaN   \n",
       "1   NaN       IR1          Lvl  ...          0            0         0     NaN   \n",
       "\n",
       "  Fence Misc Feature Misc Val Mo Sold  Yr Sold  Sale Type  \n",
       "0   NaN          NaN        0       4     2006        WD   \n",
       "1   NaN          NaN        0       8     2006        WD   \n",
       "\n",
       "[2 rows x 80 columns]"
      ]
     },
     "execution_count": 457,
     "metadata": {},
     "output_type": "execute_result"
    }
   ],
   "source": [
    "# import test data\n",
    "house_test = pd.read_csv('../datasets/test.csv')\n",
    "house_test.head(2)"
   ]
  },
  {
   "cell_type": "code",
   "execution_count": 458,
   "metadata": {},
   "outputs": [],
   "source": [
    "# add column to differentiate between train (1) and test (0) data sets\n",
    "house_train['data_type'] = 1\n",
    "house_test['data_type'] = 0"
   ]
  },
  {
   "cell_type": "code",
   "execution_count": 459,
   "metadata": {},
   "outputs": [],
   "source": [
    "# concatenate the data to clean/transform as needed\n",
    "frames = [house_train, house_test]\n",
    "df = pd.concat(frames)"
   ]
  },
  {
   "cell_type": "code",
   "execution_count": 460,
   "metadata": {},
   "outputs": [
    {
     "name": "stdout",
     "output_type": "stream",
     "text": [
      "(2051, 82)\n",
      "(878, 81)\n",
      "(2929, 82)\n",
      "True\n"
     ]
    }
   ],
   "source": [
    "# check that data was concatenated correctly\n",
    "print(house_train.shape)\n",
    "print(house_test.shape)\n",
    "print(df.shape)\n",
    "print(house_train.shape[0] + house_test.shape[0] == df.shape[0])"
   ]
  },
  {
   "cell_type": "code",
   "execution_count": 461,
   "metadata": {},
   "outputs": [
    {
     "name": "stdout",
     "output_type": "stream",
     "text": [
      "<class 'pandas.core.frame.DataFrame'>\n",
      "Int64Index: 2929 entries, 0 to 877\n",
      "Data columns (total 82 columns):\n",
      " #   Column           Non-Null Count  Dtype  \n",
      "---  ------           --------------  -----  \n",
      " 0   Id               2929 non-null   int64  \n",
      " 1   PID              2929 non-null   int64  \n",
      " 2   MS SubClass      2929 non-null   int64  \n",
      " 3   MS Zoning        2929 non-null   object \n",
      " 4   Lot Frontage     2439 non-null   float64\n",
      " 5   Lot Area         2929 non-null   int64  \n",
      " 6   Street           2929 non-null   object \n",
      " 7   Alley            198 non-null    object \n",
      " 8   Lot Shape        2929 non-null   object \n",
      " 9   Land Contour     2929 non-null   object \n",
      " 10  Utilities        2929 non-null   object \n",
      " 11  Lot Config       2929 non-null   object \n",
      " 12  Land Slope       2929 non-null   object \n",
      " 13  Neighborhood     2929 non-null   object \n",
      " 14  Condition 1      2929 non-null   object \n",
      " 15  Condition 2      2929 non-null   object \n",
      " 16  Bldg Type        2929 non-null   object \n",
      " 17  House Style      2929 non-null   object \n",
      " 18  Overall Qual     2929 non-null   int64  \n",
      " 19  Overall Cond     2929 non-null   int64  \n",
      " 20  Year Built       2929 non-null   int64  \n",
      " 21  Year Remod/Add   2929 non-null   int64  \n",
      " 22  Roof Style       2929 non-null   object \n",
      " 23  Roof Matl        2929 non-null   object \n",
      " 24  Exterior 1st     2929 non-null   object \n",
      " 25  Exterior 2nd     2929 non-null   object \n",
      " 26  Mas Vnr Type     2906 non-null   object \n",
      " 27  Mas Vnr Area     2906 non-null   float64\n",
      " 28  Exter Qual       2929 non-null   object \n",
      " 29  Exter Cond       2929 non-null   object \n",
      " 30  Foundation       2929 non-null   object \n",
      " 31  Bsmt Qual        2849 non-null   object \n",
      " 32  Bsmt Cond        2849 non-null   object \n",
      " 33  Bsmt Exposure    2846 non-null   object \n",
      " 34  BsmtFin Type 1   2849 non-null   object \n",
      " 35  BsmtFin SF 1     2928 non-null   float64\n",
      " 36  BsmtFin Type 2   2848 non-null   object \n",
      " 37  BsmtFin SF 2     2928 non-null   float64\n",
      " 38  Bsmt Unf SF      2928 non-null   float64\n",
      " 39  Total Bsmt SF    2928 non-null   float64\n",
      " 40  Heating          2929 non-null   object \n",
      " 41  Heating QC       2929 non-null   object \n",
      " 42  Central Air      2929 non-null   object \n",
      " 43  Electrical       2928 non-null   object \n",
      " 44  1st Flr SF       2929 non-null   int64  \n",
      " 45  2nd Flr SF       2929 non-null   int64  \n",
      " 46  Low Qual Fin SF  2929 non-null   int64  \n",
      " 47  Gr Liv Area      2929 non-null   int64  \n",
      " 48  Bsmt Full Bath   2927 non-null   float64\n",
      " 49  Bsmt Half Bath   2927 non-null   float64\n",
      " 50  Full Bath        2929 non-null   int64  \n",
      " 51  Half Bath        2929 non-null   int64  \n",
      " 52  Bedroom AbvGr    2929 non-null   int64  \n",
      " 53  Kitchen AbvGr    2929 non-null   int64  \n",
      " 54  Kitchen Qual     2929 non-null   object \n",
      " 55  TotRms AbvGrd    2929 non-null   int64  \n",
      " 56  Functional       2929 non-null   object \n",
      " 57  Fireplaces       2929 non-null   int64  \n",
      " 58  Fireplace Qu     1507 non-null   object \n",
      " 59  Garage Type      2772 non-null   object \n",
      " 60  Garage Yr Blt    2770 non-null   float64\n",
      " 61  Garage Finish    2770 non-null   object \n",
      " 62  Garage Cars      2928 non-null   float64\n",
      " 63  Garage Area      2928 non-null   float64\n",
      " 64  Garage Qual      2770 non-null   object \n",
      " 65  Garage Cond      2770 non-null   object \n",
      " 66  Paved Drive      2929 non-null   object \n",
      " 67  Wood Deck SF     2929 non-null   int64  \n",
      " 68  Open Porch SF    2929 non-null   int64  \n",
      " 69  Enclosed Porch   2929 non-null   int64  \n",
      " 70  3Ssn Porch       2929 non-null   int64  \n",
      " 71  Screen Porch     2929 non-null   int64  \n",
      " 72  Pool Area        2929 non-null   int64  \n",
      " 73  Pool QC          13 non-null     object \n",
      " 74  Fence            572 non-null    object \n",
      " 75  Misc Feature     106 non-null    object \n",
      " 76  Misc Val         2929 non-null   int64  \n",
      " 77  Mo Sold          2929 non-null   int64  \n",
      " 78  Yr Sold          2929 non-null   int64  \n",
      " 79  Sale Type        2929 non-null   object \n",
      " 80  SalePrice        2051 non-null   float64\n",
      " 81  data_type        2929 non-null   int64  \n",
      "dtypes: float64(12), int64(28), object(42)\n",
      "memory usage: 1.9+ MB\n"
     ]
    }
   ],
   "source": [
    "df.info()"
   ]
  },
  {
   "cell_type": "code",
   "execution_count": 462,
   "metadata": {},
   "outputs": [
    {
     "data": {
      "text/html": [
       "<div>\n",
       "<style scoped>\n",
       "    .dataframe tbody tr th:only-of-type {\n",
       "        vertical-align: middle;\n",
       "    }\n",
       "\n",
       "    .dataframe tbody tr th {\n",
       "        vertical-align: top;\n",
       "    }\n",
       "\n",
       "    .dataframe thead th {\n",
       "        text-align: right;\n",
       "    }\n",
       "</style>\n",
       "<table border=\"1\" class=\"dataframe\">\n",
       "  <thead>\n",
       "    <tr style=\"text-align: right;\">\n",
       "      <th></th>\n",
       "      <th>Id</th>\n",
       "      <th>PID</th>\n",
       "      <th>MS SubClass</th>\n",
       "      <th>MS Zoning</th>\n",
       "      <th>Lot Frontage</th>\n",
       "      <th>Lot Area</th>\n",
       "      <th>Street</th>\n",
       "      <th>Alley</th>\n",
       "      <th>Lot Shape</th>\n",
       "      <th>Land Contour</th>\n",
       "      <th>...</th>\n",
       "      <th>Pool Area</th>\n",
       "      <th>Pool QC</th>\n",
       "      <th>Fence</th>\n",
       "      <th>Misc Feature</th>\n",
       "      <th>Misc Val</th>\n",
       "      <th>Mo Sold</th>\n",
       "      <th>Yr Sold</th>\n",
       "      <th>Sale Type</th>\n",
       "      <th>SalePrice</th>\n",
       "      <th>data_type</th>\n",
       "    </tr>\n",
       "  </thead>\n",
       "  <tbody>\n",
       "    <tr>\n",
       "      <th>876</th>\n",
       "      <td>1672</td>\n",
       "      <td>527425140</td>\n",
       "      <td>20</td>\n",
       "      <td>RL</td>\n",
       "      <td>60.0</td>\n",
       "      <td>9000</td>\n",
       "      <td>Pave</td>\n",
       "      <td>NaN</td>\n",
       "      <td>Reg</td>\n",
       "      <td>Lvl</td>\n",
       "      <td>...</td>\n",
       "      <td>0</td>\n",
       "      <td>NaN</td>\n",
       "      <td>GdWo</td>\n",
       "      <td>NaN</td>\n",
       "      <td>0</td>\n",
       "      <td>5</td>\n",
       "      <td>2007</td>\n",
       "      <td>WD</td>\n",
       "      <td>NaN</td>\n",
       "      <td>0</td>\n",
       "    </tr>\n",
       "    <tr>\n",
       "      <th>877</th>\n",
       "      <td>1939</td>\n",
       "      <td>535327160</td>\n",
       "      <td>20</td>\n",
       "      <td>RL</td>\n",
       "      <td>70.0</td>\n",
       "      <td>8400</td>\n",
       "      <td>Pave</td>\n",
       "      <td>NaN</td>\n",
       "      <td>Reg</td>\n",
       "      <td>Lvl</td>\n",
       "      <td>...</td>\n",
       "      <td>0</td>\n",
       "      <td>NaN</td>\n",
       "      <td>GdWo</td>\n",
       "      <td>NaN</td>\n",
       "      <td>0</td>\n",
       "      <td>3</td>\n",
       "      <td>2007</td>\n",
       "      <td>WD</td>\n",
       "      <td>NaN</td>\n",
       "      <td>0</td>\n",
       "    </tr>\n",
       "  </tbody>\n",
       "</table>\n",
       "<p>2 rows × 82 columns</p>\n",
       "</div>"
      ],
      "text/plain": [
       "       Id        PID  MS SubClass MS Zoning  Lot Frontage  Lot Area Street  \\\n",
       "876  1672  527425140           20        RL          60.0      9000   Pave   \n",
       "877  1939  535327160           20        RL          70.0      8400   Pave   \n",
       "\n",
       "    Alley Lot Shape Land Contour  ... Pool Area Pool QC Fence Misc Feature  \\\n",
       "876   NaN       Reg          Lvl  ...         0     NaN  GdWo          NaN   \n",
       "877   NaN       Reg          Lvl  ...         0     NaN  GdWo          NaN   \n",
       "\n",
       "    Misc Val Mo Sold Yr Sold Sale Type  SalePrice  data_type  \n",
       "876        0       5    2007       WD         NaN          0  \n",
       "877        0       3    2007       WD         NaN          0  \n",
       "\n",
       "[2 rows x 82 columns]"
      ]
     },
     "execution_count": 462,
     "metadata": {},
     "output_type": "execute_result"
    }
   ],
   "source": [
    "# SalePrice shows as NaN for test data as expected\n",
    "df.tail(2)"
   ]
  },
  {
   "cell_type": "markdown",
   "metadata": {},
   "source": [
    "# Cleaning Data and EDA"
   ]
  },
  {
   "cell_type": "code",
   "execution_count": 463,
   "metadata": {},
   "outputs": [
    {
     "data": {
      "text/plain": [
       "Lot Frontage       490\n",
       "Alley             2731\n",
       "Mas Vnr Type        23\n",
       "Mas Vnr Area        23\n",
       "Bsmt Qual           80\n",
       "Bsmt Cond           80\n",
       "Bsmt Exposure       83\n",
       "BsmtFin Type 1      80\n",
       "BsmtFin SF 1         1\n",
       "BsmtFin Type 2      81\n",
       "BsmtFin SF 2         1\n",
       "Bsmt Unf SF          1\n",
       "Total Bsmt SF        1\n",
       "Electrical           1\n",
       "Bsmt Full Bath       2\n",
       "Bsmt Half Bath       2\n",
       "Fireplace Qu      1422\n",
       "Garage Type        157\n",
       "Garage Yr Blt      159\n",
       "Garage Finish      159\n",
       "Garage Cars          1\n",
       "Garage Area          1\n",
       "Garage Qual        159\n",
       "Garage Cond        159\n",
       "Pool QC           2916\n",
       "Fence             2357\n",
       "Misc Feature      2823\n",
       "SalePrice          878\n",
       "dtype: int64"
      ]
     },
     "execution_count": 463,
     "metadata": {},
     "output_type": "execute_result"
    }
   ],
   "source": [
    "df.isnull().sum()[df.isnull().sum()>0]"
   ]
  },
  {
   "cell_type": "code",
   "execution_count": 464,
   "metadata": {},
   "outputs": [],
   "source": [
    "# When I plot the missing values for the full data set, train, and test separately, the graphs appear pretty similar. \n",
    "# Those null values may need to be zero instead per the data dictionary"
   ]
  },
  {
   "cell_type": "code",
   "execution_count": 465,
   "metadata": {},
   "outputs": [
    {
     "data": {
      "text/html": [
       "<div>\n",
       "<style scoped>\n",
       "    .dataframe tbody tr th:only-of-type {\n",
       "        vertical-align: middle;\n",
       "    }\n",
       "\n",
       "    .dataframe tbody tr th {\n",
       "        vertical-align: top;\n",
       "    }\n",
       "\n",
       "    .dataframe thead th {\n",
       "        text-align: right;\n",
       "    }\n",
       "</style>\n",
       "<table border=\"1\" class=\"dataframe\">\n",
       "  <thead>\n",
       "    <tr style=\"text-align: right;\">\n",
       "      <th></th>\n",
       "      <th>Id</th>\n",
       "      <th>PID</th>\n",
       "      <th>MS SubClass</th>\n",
       "      <th>MS Zoning</th>\n",
       "      <th>Lot Frontage</th>\n",
       "      <th>Lot Area</th>\n",
       "      <th>Street</th>\n",
       "      <th>Alley</th>\n",
       "      <th>Lot Shape</th>\n",
       "      <th>Land Contour</th>\n",
       "      <th>...</th>\n",
       "      <th>Pool Area</th>\n",
       "      <th>Pool QC</th>\n",
       "      <th>Fence</th>\n",
       "      <th>Misc Feature</th>\n",
       "      <th>Misc Val</th>\n",
       "      <th>Mo Sold</th>\n",
       "      <th>Yr Sold</th>\n",
       "      <th>Sale Type</th>\n",
       "      <th>SalePrice</th>\n",
       "      <th>data_type</th>\n",
       "    </tr>\n",
       "  </thead>\n",
       "  <tbody>\n",
       "    <tr>\n",
       "      <th>0</th>\n",
       "      <td>109</td>\n",
       "      <td>533352170</td>\n",
       "      <td>60</td>\n",
       "      <td>RL</td>\n",
       "      <td>NaN</td>\n",
       "      <td>13517</td>\n",
       "      <td>Pave</td>\n",
       "      <td>NaN</td>\n",
       "      <td>IR1</td>\n",
       "      <td>Lvl</td>\n",
       "      <td>...</td>\n",
       "      <td>0</td>\n",
       "      <td>NaN</td>\n",
       "      <td>NaN</td>\n",
       "      <td>NaN</td>\n",
       "      <td>0</td>\n",
       "      <td>3</td>\n",
       "      <td>2010</td>\n",
       "      <td>WD</td>\n",
       "      <td>130500.0</td>\n",
       "      <td>1</td>\n",
       "    </tr>\n",
       "    <tr>\n",
       "      <th>1</th>\n",
       "      <td>544</td>\n",
       "      <td>531379050</td>\n",
       "      <td>60</td>\n",
       "      <td>RL</td>\n",
       "      <td>43.0</td>\n",
       "      <td>11492</td>\n",
       "      <td>Pave</td>\n",
       "      <td>NaN</td>\n",
       "      <td>IR1</td>\n",
       "      <td>Lvl</td>\n",
       "      <td>...</td>\n",
       "      <td>0</td>\n",
       "      <td>NaN</td>\n",
       "      <td>NaN</td>\n",
       "      <td>NaN</td>\n",
       "      <td>0</td>\n",
       "      <td>4</td>\n",
       "      <td>2009</td>\n",
       "      <td>WD</td>\n",
       "      <td>220000.0</td>\n",
       "      <td>1</td>\n",
       "    </tr>\n",
       "    <tr>\n",
       "      <th>2</th>\n",
       "      <td>153</td>\n",
       "      <td>535304180</td>\n",
       "      <td>20</td>\n",
       "      <td>RL</td>\n",
       "      <td>68.0</td>\n",
       "      <td>7922</td>\n",
       "      <td>Pave</td>\n",
       "      <td>NaN</td>\n",
       "      <td>Reg</td>\n",
       "      <td>Lvl</td>\n",
       "      <td>...</td>\n",
       "      <td>0</td>\n",
       "      <td>NaN</td>\n",
       "      <td>NaN</td>\n",
       "      <td>NaN</td>\n",
       "      <td>0</td>\n",
       "      <td>1</td>\n",
       "      <td>2010</td>\n",
       "      <td>WD</td>\n",
       "      <td>109000.0</td>\n",
       "      <td>1</td>\n",
       "    </tr>\n",
       "    <tr>\n",
       "      <th>3</th>\n",
       "      <td>318</td>\n",
       "      <td>916386060</td>\n",
       "      <td>60</td>\n",
       "      <td>RL</td>\n",
       "      <td>73.0</td>\n",
       "      <td>9802</td>\n",
       "      <td>Pave</td>\n",
       "      <td>NaN</td>\n",
       "      <td>Reg</td>\n",
       "      <td>Lvl</td>\n",
       "      <td>...</td>\n",
       "      <td>0</td>\n",
       "      <td>NaN</td>\n",
       "      <td>NaN</td>\n",
       "      <td>NaN</td>\n",
       "      <td>0</td>\n",
       "      <td>4</td>\n",
       "      <td>2010</td>\n",
       "      <td>WD</td>\n",
       "      <td>174000.0</td>\n",
       "      <td>1</td>\n",
       "    </tr>\n",
       "    <tr>\n",
       "      <th>4</th>\n",
       "      <td>255</td>\n",
       "      <td>906425045</td>\n",
       "      <td>50</td>\n",
       "      <td>RL</td>\n",
       "      <td>82.0</td>\n",
       "      <td>14235</td>\n",
       "      <td>Pave</td>\n",
       "      <td>NaN</td>\n",
       "      <td>IR1</td>\n",
       "      <td>Lvl</td>\n",
       "      <td>...</td>\n",
       "      <td>0</td>\n",
       "      <td>NaN</td>\n",
       "      <td>NaN</td>\n",
       "      <td>NaN</td>\n",
       "      <td>0</td>\n",
       "      <td>3</td>\n",
       "      <td>2010</td>\n",
       "      <td>WD</td>\n",
       "      <td>138500.0</td>\n",
       "      <td>1</td>\n",
       "    </tr>\n",
       "    <tr>\n",
       "      <th>...</th>\n",
       "      <td>...</td>\n",
       "      <td>...</td>\n",
       "      <td>...</td>\n",
       "      <td>...</td>\n",
       "      <td>...</td>\n",
       "      <td>...</td>\n",
       "      <td>...</td>\n",
       "      <td>...</td>\n",
       "      <td>...</td>\n",
       "      <td>...</td>\n",
       "      <td>...</td>\n",
       "      <td>...</td>\n",
       "      <td>...</td>\n",
       "      <td>...</td>\n",
       "      <td>...</td>\n",
       "      <td>...</td>\n",
       "      <td>...</td>\n",
       "      <td>...</td>\n",
       "      <td>...</td>\n",
       "      <td>...</td>\n",
       "      <td>...</td>\n",
       "    </tr>\n",
       "    <tr>\n",
       "      <th>2046</th>\n",
       "      <td>1587</td>\n",
       "      <td>921126030</td>\n",
       "      <td>20</td>\n",
       "      <td>RL</td>\n",
       "      <td>79.0</td>\n",
       "      <td>11449</td>\n",
       "      <td>Pave</td>\n",
       "      <td>NaN</td>\n",
       "      <td>IR1</td>\n",
       "      <td>HLS</td>\n",
       "      <td>...</td>\n",
       "      <td>0</td>\n",
       "      <td>NaN</td>\n",
       "      <td>NaN</td>\n",
       "      <td>NaN</td>\n",
       "      <td>0</td>\n",
       "      <td>1</td>\n",
       "      <td>2008</td>\n",
       "      <td>WD</td>\n",
       "      <td>298751.0</td>\n",
       "      <td>1</td>\n",
       "    </tr>\n",
       "    <tr>\n",
       "      <th>2047</th>\n",
       "      <td>785</td>\n",
       "      <td>905377130</td>\n",
       "      <td>30</td>\n",
       "      <td>RL</td>\n",
       "      <td>NaN</td>\n",
       "      <td>12342</td>\n",
       "      <td>Pave</td>\n",
       "      <td>NaN</td>\n",
       "      <td>IR1</td>\n",
       "      <td>Lvl</td>\n",
       "      <td>...</td>\n",
       "      <td>0</td>\n",
       "      <td>NaN</td>\n",
       "      <td>NaN</td>\n",
       "      <td>NaN</td>\n",
       "      <td>0</td>\n",
       "      <td>3</td>\n",
       "      <td>2009</td>\n",
       "      <td>WD</td>\n",
       "      <td>82500.0</td>\n",
       "      <td>1</td>\n",
       "    </tr>\n",
       "    <tr>\n",
       "      <th>2048</th>\n",
       "      <td>916</td>\n",
       "      <td>909253010</td>\n",
       "      <td>50</td>\n",
       "      <td>RL</td>\n",
       "      <td>57.0</td>\n",
       "      <td>7558</td>\n",
       "      <td>Pave</td>\n",
       "      <td>NaN</td>\n",
       "      <td>Reg</td>\n",
       "      <td>Bnk</td>\n",
       "      <td>...</td>\n",
       "      <td>0</td>\n",
       "      <td>NaN</td>\n",
       "      <td>NaN</td>\n",
       "      <td>NaN</td>\n",
       "      <td>0</td>\n",
       "      <td>3</td>\n",
       "      <td>2009</td>\n",
       "      <td>WD</td>\n",
       "      <td>177000.0</td>\n",
       "      <td>1</td>\n",
       "    </tr>\n",
       "    <tr>\n",
       "      <th>2049</th>\n",
       "      <td>639</td>\n",
       "      <td>535179160</td>\n",
       "      <td>20</td>\n",
       "      <td>RL</td>\n",
       "      <td>80.0</td>\n",
       "      <td>10400</td>\n",
       "      <td>Pave</td>\n",
       "      <td>NaN</td>\n",
       "      <td>Reg</td>\n",
       "      <td>Lvl</td>\n",
       "      <td>...</td>\n",
       "      <td>0</td>\n",
       "      <td>NaN</td>\n",
       "      <td>NaN</td>\n",
       "      <td>NaN</td>\n",
       "      <td>0</td>\n",
       "      <td>11</td>\n",
       "      <td>2009</td>\n",
       "      <td>WD</td>\n",
       "      <td>144000.0</td>\n",
       "      <td>1</td>\n",
       "    </tr>\n",
       "    <tr>\n",
       "      <th>2050</th>\n",
       "      <td>10</td>\n",
       "      <td>527162130</td>\n",
       "      <td>60</td>\n",
       "      <td>RL</td>\n",
       "      <td>60.0</td>\n",
       "      <td>7500</td>\n",
       "      <td>Pave</td>\n",
       "      <td>NaN</td>\n",
       "      <td>Reg</td>\n",
       "      <td>Lvl</td>\n",
       "      <td>...</td>\n",
       "      <td>0</td>\n",
       "      <td>NaN</td>\n",
       "      <td>NaN</td>\n",
       "      <td>NaN</td>\n",
       "      <td>0</td>\n",
       "      <td>6</td>\n",
       "      <td>2010</td>\n",
       "      <td>WD</td>\n",
       "      <td>189000.0</td>\n",
       "      <td>1</td>\n",
       "    </tr>\n",
       "  </tbody>\n",
       "</table>\n",
       "<p>1911 rows × 82 columns</p>\n",
       "</div>"
      ],
      "text/plain": [
       "        Id        PID  MS SubClass MS Zoning  Lot Frontage  Lot Area Street  \\\n",
       "0      109  533352170           60        RL           NaN     13517   Pave   \n",
       "1      544  531379050           60        RL          43.0     11492   Pave   \n",
       "2      153  535304180           20        RL          68.0      7922   Pave   \n",
       "3      318  916386060           60        RL          73.0      9802   Pave   \n",
       "4      255  906425045           50        RL          82.0     14235   Pave   \n",
       "...    ...        ...          ...       ...           ...       ...    ...   \n",
       "2046  1587  921126030           20        RL          79.0     11449   Pave   \n",
       "2047   785  905377130           30        RL           NaN     12342   Pave   \n",
       "2048   916  909253010           50        RL          57.0      7558   Pave   \n",
       "2049   639  535179160           20        RL          80.0     10400   Pave   \n",
       "2050    10  527162130           60        RL          60.0      7500   Pave   \n",
       "\n",
       "     Alley Lot Shape Land Contour  ... Pool Area Pool QC Fence Misc Feature  \\\n",
       "0      NaN       IR1          Lvl  ...         0     NaN   NaN          NaN   \n",
       "1      NaN       IR1          Lvl  ...         0     NaN   NaN          NaN   \n",
       "2      NaN       Reg          Lvl  ...         0     NaN   NaN          NaN   \n",
       "3      NaN       Reg          Lvl  ...         0     NaN   NaN          NaN   \n",
       "4      NaN       IR1          Lvl  ...         0     NaN   NaN          NaN   \n",
       "...    ...       ...          ...  ...       ...     ...   ...          ...   \n",
       "2046   NaN       IR1          HLS  ...         0     NaN   NaN          NaN   \n",
       "2047   NaN       IR1          Lvl  ...         0     NaN   NaN          NaN   \n",
       "2048   NaN       Reg          Bnk  ...         0     NaN   NaN          NaN   \n",
       "2049   NaN       Reg          Lvl  ...         0     NaN   NaN          NaN   \n",
       "2050   NaN       Reg          Lvl  ...         0     NaN   NaN          NaN   \n",
       "\n",
       "     Misc Val Mo Sold Yr Sold Sale Type  SalePrice  data_type  \n",
       "0           0       3    2010       WD    130500.0          1  \n",
       "1           0       4    2009       WD    220000.0          1  \n",
       "2           0       1    2010       WD    109000.0          1  \n",
       "3           0       4    2010       WD    174000.0          1  \n",
       "4           0       3    2010       WD    138500.0          1  \n",
       "...       ...     ...     ...       ...        ...        ...  \n",
       "2046        0       1    2008       WD    298751.0          1  \n",
       "2047        0       3    2009       WD     82500.0          1  \n",
       "2048        0       3    2009       WD    177000.0          1  \n",
       "2049        0      11    2009       WD    144000.0          1  \n",
       "2050        0       6    2010       WD    189000.0          1  \n",
       "\n",
       "[1911 rows x 82 columns]"
      ]
     },
     "execution_count": 465,
     "metadata": {},
     "output_type": "execute_result"
    }
   ],
   "source": [
    "# check nulls\n",
    "df[(df['Alley'].isnull()) & (df['data_type'] == 1)]"
   ]
  },
  {
   "cell_type": "code",
   "execution_count": 466,
   "metadata": {},
   "outputs": [
    {
     "data": {
      "text/plain": [
       "<matplotlib.axes._subplots.AxesSubplot at 0x1c4a10c990>"
      ]
     },
     "execution_count": 466,
     "metadata": {},
     "output_type": "execute_result"
    },
    {
     "data": {
      "image/png": "[encoded data removed]",
      "text/plain": [
       "<Figure size 1728x720 with 2 Axes>"
      ]
     },
     "metadata": {
      "needs_background": "light"
     },
     "output_type": "display_data"
    }
   ],
   "source": [
    "msno.bar(df)"
   ]
  },
  {
   "cell_type": "code",
   "execution_count": 467,
   "metadata": {},
   "outputs": [
    {
     "data": {
      "text/plain": [
       "<matplotlib.axes._subplots.AxesSubplot at 0x1c476ca550>"
      ]
     },
     "execution_count": 467,
     "metadata": {},
     "output_type": "execute_result"
    },
    {
     "data": {
      "image/png": "[encoded data removed]",
      "text/plain": [
       "<Figure size 1728x720 with 2 Axes>"
      ]
     },
     "metadata": {
      "needs_background": "light"
     },
     "output_type": "display_data"
    }
   ],
   "source": [
    "# bar plot of missing values for test data set\n",
    "msno.bar(df[df['data_type'] == 1])"
   ]
  },
  {
   "cell_type": "code",
   "execution_count": 468,
   "metadata": {
    "scrolled": true
   },
   "outputs": [
    {
     "data": {
      "text/plain": [
       "<matplotlib.axes._subplots.AxesSubplot at 0x1c49eac2d0>"
      ]
     },
     "execution_count": 468,
     "metadata": {},
     "output_type": "execute_result"
    },
    {
     "data": {
      "image/png": "[encoded data removed]",
      "text/plain": [
       "<Figure size 1728x720 with 2 Axes>"
      ]
     },
     "metadata": {
      "needs_background": "light"
     },
     "output_type": "display_data"
    }
   ],
   "source": [
    "# bar plot of missing values for test data set\n",
    "msno.bar(df[df['data_type'] == 0])"
   ]
  },
  {
   "cell_type": "code",
   "execution_count": 469,
   "metadata": {},
   "outputs": [
    {
     "data": {
      "text/plain": [
       "<matplotlib.axes._subplots.AxesSubplot at 0x1c4a0e4c90>"
      ]
     },
     "execution_count": 469,
     "metadata": {},
     "output_type": "execute_result"
    },
    {
     "data": {
      "image/png": "[encoded data removed]",
      "text/plain": [
       "<Figure size 1728x720 with 2 Axes>"
      ]
     },
     "metadata": {
      "needs_background": "light"
     },
     "output_type": "display_data"
    }
   ],
   "source": [
    "# I am going to fill the null values with zero since for the most case null values mean there is no sqft, garage, etc.\n",
    "df.fillna(0, inplace = True)\n",
    "msno.bar(df)"
   ]
  },
  {
   "cell_type": "markdown",
   "metadata": {},
   "source": [
    "# Remove Outliers"
   ]
  },
  {
   "cell_type": "code",
   "execution_count": 470,
   "metadata": {
    "scrolled": true
   },
   "outputs": [
    {
     "data": {
      "image/png": "[encoded data removed]",
      "text/plain": [
       "<Figure size 540x180 with 3 Axes>"
      ]
     },
     "metadata": {
      "needs_background": "light"
     },
     "output_type": "display_data"
    }
   ],
   "source": [
    "# There below graphs have what appear to be outliers\n",
    "sns.pairplot(df[df['data_type'] == 1], x_vars = ['Lot Area', 'Gr Liv Area', 'Total Bsmt SF'], y_vars = ['SalePrice']);"
   ]
  },
  {
   "cell_type": "code",
   "execution_count": 471,
   "metadata": {},
   "outputs": [
    {
     "data": {
      "text/html": [
       "<div>\n",
       "<style scoped>\n",
       "    .dataframe tbody tr th:only-of-type {\n",
       "        vertical-align: middle;\n",
       "    }\n",
       "\n",
       "    .dataframe tbody tr th {\n",
       "        vertical-align: top;\n",
       "    }\n",
       "\n",
       "    .dataframe thead th {\n",
       "        text-align: right;\n",
       "    }\n",
       "</style>\n",
       "<table border=\"1\" class=\"dataframe\">\n",
       "  <thead>\n",
       "    <tr style=\"text-align: right;\">\n",
       "      <th></th>\n",
       "      <th>Id</th>\n",
       "      <th>PID</th>\n",
       "      <th>MS SubClass</th>\n",
       "      <th>MS Zoning</th>\n",
       "      <th>Lot Frontage</th>\n",
       "      <th>Lot Area</th>\n",
       "      <th>Street</th>\n",
       "      <th>Alley</th>\n",
       "      <th>Lot Shape</th>\n",
       "      <th>Land Contour</th>\n",
       "      <th>...</th>\n",
       "      <th>Pool Area</th>\n",
       "      <th>Pool QC</th>\n",
       "      <th>Fence</th>\n",
       "      <th>Misc Feature</th>\n",
       "      <th>Misc Val</th>\n",
       "      <th>Mo Sold</th>\n",
       "      <th>Yr Sold</th>\n",
       "      <th>Sale Type</th>\n",
       "      <th>SalePrice</th>\n",
       "      <th>data_type</th>\n",
       "    </tr>\n",
       "  </thead>\n",
       "  <tbody>\n",
       "    <tr>\n",
       "      <th>694</th>\n",
       "      <td>2072</td>\n",
       "      <td>905301050</td>\n",
       "      <td>20</td>\n",
       "      <td>RL</td>\n",
       "      <td>0.0</td>\n",
       "      <td>115149</td>\n",
       "      <td>Pave</td>\n",
       "      <td>0</td>\n",
       "      <td>IR2</td>\n",
       "      <td>Low</td>\n",
       "      <td>...</td>\n",
       "      <td>0</td>\n",
       "      <td>0</td>\n",
       "      <td>0</td>\n",
       "      <td>0</td>\n",
       "      <td>0</td>\n",
       "      <td>6</td>\n",
       "      <td>2007</td>\n",
       "      <td>WD</td>\n",
       "      <td>302000.0</td>\n",
       "      <td>1</td>\n",
       "    </tr>\n",
       "    <tr>\n",
       "      <th>471</th>\n",
       "      <td>2116</td>\n",
       "      <td>906426060</td>\n",
       "      <td>50</td>\n",
       "      <td>RL</td>\n",
       "      <td>0.0</td>\n",
       "      <td>159000</td>\n",
       "      <td>Pave</td>\n",
       "      <td>0</td>\n",
       "      <td>IR2</td>\n",
       "      <td>Low</td>\n",
       "      <td>...</td>\n",
       "      <td>0</td>\n",
       "      <td>0</td>\n",
       "      <td>0</td>\n",
       "      <td>Shed</td>\n",
       "      <td>500</td>\n",
       "      <td>6</td>\n",
       "      <td>2007</td>\n",
       "      <td>WD</td>\n",
       "      <td>277000.0</td>\n",
       "      <td>1</td>\n",
       "    </tr>\n",
       "  </tbody>\n",
       "</table>\n",
       "<p>2 rows × 82 columns</p>\n",
       "</div>"
      ],
      "text/plain": [
       "       Id        PID  MS SubClass MS Zoning  Lot Frontage  Lot Area Street  \\\n",
       "694  2072  905301050           20        RL           0.0    115149   Pave   \n",
       "471  2116  906426060           50        RL           0.0    159000   Pave   \n",
       "\n",
       "    Alley Lot Shape Land Contour  ... Pool Area Pool QC Fence Misc Feature  \\\n",
       "694     0       IR2          Low  ...         0       0     0            0   \n",
       "471     0       IR2          Low  ...         0       0     0         Shed   \n",
       "\n",
       "    Misc Val Mo Sold Yr Sold Sale Type  SalePrice  data_type  \n",
       "694        0       6    2007       WD    302000.0          1  \n",
       "471      500       6    2007       WD    277000.0          1  \n",
       "\n",
       "[2 rows x 82 columns]"
      ]
     },
     "execution_count": 471,
     "metadata": {},
     "output_type": "execute_result"
    }
   ],
   "source": [
    "# Lot Area\n",
    "df[df['data_type'] == 1].sort_values('Lot Area').tail(2)"
   ]
  },
  {
   "cell_type": "code",
   "execution_count": 472,
   "metadata": {},
   "outputs": [
    {
     "data": {
      "text/html": [
       "<div>\n",
       "<style scoped>\n",
       "    .dataframe tbody tr th:only-of-type {\n",
       "        vertical-align: middle;\n",
       "    }\n",
       "\n",
       "    .dataframe tbody tr th {\n",
       "        vertical-align: top;\n",
       "    }\n",
       "\n",
       "    .dataframe thead th {\n",
       "        text-align: right;\n",
       "    }\n",
       "</style>\n",
       "<table border=\"1\" class=\"dataframe\">\n",
       "  <thead>\n",
       "    <tr style=\"text-align: right;\">\n",
       "      <th></th>\n",
       "      <th>Id</th>\n",
       "      <th>PID</th>\n",
       "      <th>MS SubClass</th>\n",
       "      <th>MS Zoning</th>\n",
       "      <th>Lot Frontage</th>\n",
       "      <th>Lot Area</th>\n",
       "      <th>Street</th>\n",
       "      <th>Alley</th>\n",
       "      <th>Lot Shape</th>\n",
       "      <th>Land Contour</th>\n",
       "      <th>...</th>\n",
       "      <th>Pool Area</th>\n",
       "      <th>Pool QC</th>\n",
       "      <th>Fence</th>\n",
       "      <th>Misc Feature</th>\n",
       "      <th>Misc Val</th>\n",
       "      <th>Mo Sold</th>\n",
       "      <th>Yr Sold</th>\n",
       "      <th>Sale Type</th>\n",
       "      <th>SalePrice</th>\n",
       "      <th>data_type</th>\n",
       "    </tr>\n",
       "  </thead>\n",
       "  <tbody>\n",
       "    <tr>\n",
       "      <th>1885</th>\n",
       "      <td>2181</td>\n",
       "      <td>908154195</td>\n",
       "      <td>20</td>\n",
       "      <td>RL</td>\n",
       "      <td>128.0</td>\n",
       "      <td>39290</td>\n",
       "      <td>Pave</td>\n",
       "      <td>0</td>\n",
       "      <td>IR1</td>\n",
       "      <td>Bnk</td>\n",
       "      <td>...</td>\n",
       "      <td>0</td>\n",
       "      <td>0</td>\n",
       "      <td>0</td>\n",
       "      <td>Elev</td>\n",
       "      <td>17000</td>\n",
       "      <td>10</td>\n",
       "      <td>2007</td>\n",
       "      <td>New</td>\n",
       "      <td>183850.0</td>\n",
       "      <td>1</td>\n",
       "    </tr>\n",
       "    <tr>\n",
       "      <th>960</th>\n",
       "      <td>1499</td>\n",
       "      <td>908154235</td>\n",
       "      <td>60</td>\n",
       "      <td>RL</td>\n",
       "      <td>313.0</td>\n",
       "      <td>63887</td>\n",
       "      <td>Pave</td>\n",
       "      <td>0</td>\n",
       "      <td>IR3</td>\n",
       "      <td>Bnk</td>\n",
       "      <td>...</td>\n",
       "      <td>480</td>\n",
       "      <td>Gd</td>\n",
       "      <td>0</td>\n",
       "      <td>0</td>\n",
       "      <td>0</td>\n",
       "      <td>1</td>\n",
       "      <td>2008</td>\n",
       "      <td>New</td>\n",
       "      <td>160000.0</td>\n",
       "      <td>1</td>\n",
       "    </tr>\n",
       "  </tbody>\n",
       "</table>\n",
       "<p>2 rows × 82 columns</p>\n",
       "</div>"
      ],
      "text/plain": [
       "        Id        PID  MS SubClass MS Zoning  Lot Frontage  Lot Area Street  \\\n",
       "1885  2181  908154195           20        RL         128.0     39290   Pave   \n",
       "960   1499  908154235           60        RL         313.0     63887   Pave   \n",
       "\n",
       "     Alley Lot Shape Land Contour  ... Pool Area Pool QC Fence Misc Feature  \\\n",
       "1885     0       IR1          Bnk  ...         0       0     0         Elev   \n",
       "960      0       IR3          Bnk  ...       480      Gd     0            0   \n",
       "\n",
       "     Misc Val Mo Sold Yr Sold Sale Type  SalePrice  data_type  \n",
       "1885    17000      10    2007       New   183850.0          1  \n",
       "960         0       1    2008       New   160000.0          1  \n",
       "\n",
       "[2 rows x 82 columns]"
      ]
     },
     "execution_count": 472,
     "metadata": {},
     "output_type": "execute_result"
    }
   ],
   "source": [
    "# Gr Liv Area\n",
    "df[df['data_type'] == 1].sort_values('Gr Liv Area').tail(2)"
   ]
  },
  {
   "cell_type": "code",
   "execution_count": 473,
   "metadata": {},
   "outputs": [
    {
     "data": {
      "text/html": [
       "<div>\n",
       "<style scoped>\n",
       "    .dataframe tbody tr th:only-of-type {\n",
       "        vertical-align: middle;\n",
       "    }\n",
       "\n",
       "    .dataframe tbody tr th {\n",
       "        vertical-align: top;\n",
       "    }\n",
       "\n",
       "    .dataframe thead th {\n",
       "        text-align: right;\n",
       "    }\n",
       "</style>\n",
       "<table border=\"1\" class=\"dataframe\">\n",
       "  <thead>\n",
       "    <tr style=\"text-align: right;\">\n",
       "      <th></th>\n",
       "      <th>Id</th>\n",
       "      <th>PID</th>\n",
       "      <th>MS SubClass</th>\n",
       "      <th>MS Zoning</th>\n",
       "      <th>Lot Frontage</th>\n",
       "      <th>Lot Area</th>\n",
       "      <th>Street</th>\n",
       "      <th>Alley</th>\n",
       "      <th>Lot Shape</th>\n",
       "      <th>Land Contour</th>\n",
       "      <th>...</th>\n",
       "      <th>Pool Area</th>\n",
       "      <th>Pool QC</th>\n",
       "      <th>Fence</th>\n",
       "      <th>Misc Feature</th>\n",
       "      <th>Misc Val</th>\n",
       "      <th>Mo Sold</th>\n",
       "      <th>Yr Sold</th>\n",
       "      <th>Sale Type</th>\n",
       "      <th>SalePrice</th>\n",
       "      <th>data_type</th>\n",
       "    </tr>\n",
       "  </thead>\n",
       "  <tbody>\n",
       "    <tr>\n",
       "      <th>1885</th>\n",
       "      <td>2181</td>\n",
       "      <td>908154195</td>\n",
       "      <td>20</td>\n",
       "      <td>RL</td>\n",
       "      <td>128.0</td>\n",
       "      <td>39290</td>\n",
       "      <td>Pave</td>\n",
       "      <td>0</td>\n",
       "      <td>IR1</td>\n",
       "      <td>Bnk</td>\n",
       "      <td>...</td>\n",
       "      <td>0</td>\n",
       "      <td>0</td>\n",
       "      <td>0</td>\n",
       "      <td>Elev</td>\n",
       "      <td>17000</td>\n",
       "      <td>10</td>\n",
       "      <td>2007</td>\n",
       "      <td>New</td>\n",
       "      <td>183850.0</td>\n",
       "      <td>1</td>\n",
       "    </tr>\n",
       "    <tr>\n",
       "      <th>960</th>\n",
       "      <td>1499</td>\n",
       "      <td>908154235</td>\n",
       "      <td>60</td>\n",
       "      <td>RL</td>\n",
       "      <td>313.0</td>\n",
       "      <td>63887</td>\n",
       "      <td>Pave</td>\n",
       "      <td>0</td>\n",
       "      <td>IR3</td>\n",
       "      <td>Bnk</td>\n",
       "      <td>...</td>\n",
       "      <td>480</td>\n",
       "      <td>Gd</td>\n",
       "      <td>0</td>\n",
       "      <td>0</td>\n",
       "      <td>0</td>\n",
       "      <td>1</td>\n",
       "      <td>2008</td>\n",
       "      <td>New</td>\n",
       "      <td>160000.0</td>\n",
       "      <td>1</td>\n",
       "    </tr>\n",
       "  </tbody>\n",
       "</table>\n",
       "<p>2 rows × 82 columns</p>\n",
       "</div>"
      ],
      "text/plain": [
       "        Id        PID  MS SubClass MS Zoning  Lot Frontage  Lot Area Street  \\\n",
       "1885  2181  908154195           20        RL         128.0     39290   Pave   \n",
       "960   1499  908154235           60        RL         313.0     63887   Pave   \n",
       "\n",
       "     Alley Lot Shape Land Contour  ... Pool Area Pool QC Fence Misc Feature  \\\n",
       "1885     0       IR1          Bnk  ...         0       0     0         Elev   \n",
       "960      0       IR3          Bnk  ...       480      Gd     0            0   \n",
       "\n",
       "     Misc Val Mo Sold Yr Sold Sale Type  SalePrice  data_type  \n",
       "1885    17000      10    2007       New   183850.0          1  \n",
       "960         0       1    2008       New   160000.0          1  \n",
       "\n",
       "[2 rows x 82 columns]"
      ]
     },
     "execution_count": 473,
     "metadata": {},
     "output_type": "execute_result"
    }
   ],
   "source": [
    "# Total Bsmt SF\n",
    "df[df['data_type'] == 1].sort_values('Total Bsmt SF').tail(2)"
   ]
  },
  {
   "cell_type": "code",
   "execution_count": 474,
   "metadata": {},
   "outputs": [],
   "source": [
    "#I am going to delete the four data points that appear to be outliers \n",
    "df = df.drop(index = [694, 471, 1885, 960])"
   ]
  },
  {
   "cell_type": "markdown",
   "metadata": {},
   "source": [
    "# Creating New Features"
   ]
  },
  {
   "cell_type": "code",
   "execution_count": 475,
   "metadata": {},
   "outputs": [],
   "source": [
    "# I am going to create one term to count total bathrooms\n",
    "df['total_baths'] = df['Bsmt Full Bath'] + 0.5*df['Bsmt Half Bath'] + df['Full Bath'] + df['Half Bath']\n"
   ]
  },
  {
   "cell_type": "markdown",
   "metadata": {},
   "source": [
    "# Visuals - Looking at correlations and other relationships"
   ]
  },
  {
   "cell_type": "code",
   "execution_count": 476,
   "metadata": {},
   "outputs": [
    {
     "data": {
      "image/png": "[encoded data removed]",
      "text/plain": [
       "<Figure size 216x1080 with 2 Axes>"
      ]
     },
     "metadata": {
      "needs_background": "light"
     },
     "output_type": "display_data"
    }
   ],
   "source": [
    "plt.figure(figsize = (3,15))\n",
    "sns.heatmap(df[df['data_type'] == 1].corr()[['SalePrice']].sort_values('SalePrice'),\n",
    "                       annot = True,\n",
    "                       cmap = 'coolwarm',\n",
    "                       vmin = -1,\n",
    "                       vmax = 1);"
   ]
  },
  {
   "cell_type": "code",
   "execution_count": 477,
   "metadata": {},
   "outputs": [
    {
     "data": {
      "image/png": "[encoded data removed]",
      "text/plain": [
       "<Figure size 1080x180 with 6 Axes>"
      ]
     },
     "metadata": {
      "needs_background": "light"
     },
     "output_type": "display_data"
    }
   ],
   "source": [
    "sns.pairplot(df[df['data_type'] == 1], x_vars = ['Overall Qual', 'Gr Liv Area', 'Garage Area', 'Garage Cars', 'Total Bsmt SF', 'Mas Vnr Area'], y_vars = ['SalePrice']);\n"
   ]
  },
  {
   "cell_type": "code",
   "execution_count": 478,
   "metadata": {},
   "outputs": [
    {
     "data": {
      "image/png": "[encoded data removed]",
      "text/plain": [
       "<Figure size 1080x180 with 6 Axes>"
      ]
     },
     "metadata": {
      "needs_background": "light"
     },
     "output_type": "display_data"
    }
   ],
   "source": [
    "sns.pairplot(df[df['data_type'] == 1], x_vars = ['1st Flr SF', 'total_baths', 'Year Built', 'Year Remod/Add', 'Full Bath', 'TotRms AbvGrd'], y_vars = ['SalePrice']);"
   ]
  },
  {
   "cell_type": "code",
   "execution_count": 479,
   "metadata": {
    "scrolled": true
   },
   "outputs": [
    {
     "data": {
      "image/png": "[encoded data removed]",
      "text/plain": [
       "<Figure size 360x180 with 2 Axes>"
      ]
     },
     "metadata": {
      "needs_background": "light"
     },
     "output_type": "display_data"
    }
   ],
   "source": [
    "sns.pairplot(df[df['data_type'] == 1], x_vars = ['Mo Sold', 'Yr Sold'], y_vars = ['SalePrice']);\n"
   ]
  },
  {
   "cell_type": "code",
   "execution_count": 480,
   "metadata": {},
   "outputs": [],
   "source": [
    "features = ['Overall Qual', 'Gr Liv Area', 'Garage Area', 'Garage Cars', 'Total Bsmt SF', 'Mas Vnr Area', '1st Flr SF', 'total_baths', 'Year Built', 'Year Remod/Add', 'Full Bath', 'TotRms AbvGrd', 'Mo Sold', 'Yr Sold', 'SalePrice', 'data_type']"
   ]
  },
  {
   "cell_type": "code",
   "execution_count": 481,
   "metadata": {},
   "outputs": [],
   "source": [
    "new_df = df[features]"
   ]
  },
  {
   "cell_type": "code",
   "execution_count": 482,
   "metadata": {},
   "outputs": [],
   "source": [
    "new_df = pd.get_dummies(new_df, columns = ['Mo Sold', 'Yr Sold'])"
   ]
  },
  {
   "cell_type": "code",
   "execution_count": 483,
   "metadata": {},
   "outputs": [],
   "source": [
    "new_df_y_train = new_df[new_df['data_type'] == 1]['SalePrice']\n",
    "new_df_y_test = new_df[new_df['data_type'] == 0]['SalePrice']\n",
    "new_df_X_train = new_df[new_df['data_type'] == 1].drop(columns = ['data_type', 'SalePrice'])\n",
    "new_df_X_test = new_df[new_df['data_type'] == 0].drop(columns = ['data_type', 'SalePrice'])"
   ]
  },
  {
   "cell_type": "code",
   "execution_count": 484,
   "metadata": {},
   "outputs": [],
   "source": [
    "# # I am going to add interactions to my df using PolynomialFeatures\n",
    "# poly = PolynomialFeatures(degree=2, interaction_only=False, include_bias=False)\n",
    "# df_overfit_train = poly.fit_transform(new_df_X_train)\n",
    "# df_overfit_test = poly.fit_transform(new_df_X_test)"
   ]
  },
  {
   "cell_type": "code",
   "execution_count": 485,
   "metadata": {},
   "outputs": [],
   "source": [
    "# train/test split\n",
    "X_train, X_test, y_train, y_test = train_test_split(new_df_X_train, new_df_y_train, random_state = 42)"
   ]
  },
  {
   "cell_type": "code",
   "execution_count": null,
   "metadata": {},
   "outputs": [],
   "source": [
    "y_rain"
   ]
  },
  {
   "cell_type": "code",
   "execution_count": 486,
   "metadata": {},
   "outputs": [
    {
     "name": "stderr",
     "output_type": "stream",
     "text": [
      "/Users/RoxanaRuvalcaba/opt/anaconda3/envs/dsi/lib/python3.7/site-packages/sklearn/preprocessing/data.py:625: DataConversionWarning: Data with input dtype uint8, int64, float64 were all converted to float64 by StandardScaler.\n",
      "  return self.partial_fit(X, y)\n",
      "/Users/RoxanaRuvalcaba/opt/anaconda3/envs/dsi/lib/python3.7/site-packages/sklearn/base.py:462: DataConversionWarning: Data with input dtype uint8, int64, float64 were all converted to float64 by StandardScaler.\n",
      "  return self.fit(X, **fit_params).transform(X)\n",
      "/Users/RoxanaRuvalcaba/opt/anaconda3/envs/dsi/lib/python3.7/site-packages/ipykernel_launcher.py:4: DataConversionWarning: Data with input dtype uint8, int64, float64 were all converted to float64 by StandardScaler.\n",
      "  after removing the cwd from sys.path.\n"
     ]
    }
   ],
   "source": [
    "# Standard Scalar, though it's not recommended to do on encoded\n",
    "sc = StandardScaler()\n",
    "Z_train = sc.fit_transform(X_train)\n",
    "Z_test = sc.transform(X_test)"
   ]
  },
  {
   "cell_type": "code",
   "execution_count": 487,
   "metadata": {},
   "outputs": [
    {
     "name": "stderr",
     "output_type": "stream",
     "text": [
      "/Users/RoxanaRuvalcaba/opt/anaconda3/envs/dsi/lib/python3.7/site-packages/sklearn/model_selection/_split.py:2053: FutureWarning: You should specify a value for 'cv' instead of relying on the default value. The default value will change from 3 to 5 in version 0.22.\n",
      "  warnings.warn(CV_WARNING, FutureWarning)\n"
     ]
    },
    {
     "data": {
      "text/plain": [
       "LassoCV(alphas=array([1.00000e-003, 1.09750e-002, ..., 9.11163e+098, 1.00000e+100]),\n",
       "    copy_X=True, cv='warn', eps=0.001, fit_intercept=True, max_iter=1000,\n",
       "    n_alphas=100, n_jobs=None, normalize=False, positive=False,\n",
       "    precompute='auto', random_state=None, selection='cyclic', tol=0.0001,\n",
       "    verbose=False)"
      ]
     },
     "execution_count": 487,
     "metadata": {},
     "output_type": "execute_result"
    }
   ],
   "source": [
    "# Set up a list of Lasso alphas to check.\n",
    "l_alphas = np.logspace(-3, 100, 100)\n",
    "\n",
    "# Cross-validate over our list of Lasso alphas.\n",
    "lasso_cv = LassoCV(alphas = l_alphas)\n",
    "\n",
    "# Fit model using best ridge alpha!\n",
    "lasso_cv.fit(Z_train, y_train)"
   ]
  },
  {
   "cell_type": "code",
   "execution_count": 488,
   "metadata": {},
   "outputs": [
    {
     "name": "stdout",
     "output_type": "stream",
     "text": [
      "0.8482334516533081\n",
      "0.8324896889069404\n"
     ]
    }
   ],
   "source": [
    "print(lasso_cv.score(Z_train, y_train))\n",
    "print(lasso_cv.score(Z_test, y_test))"
   ]
  },
  {
   "cell_type": "code",
   "execution_count": 489,
   "metadata": {},
   "outputs": [],
   "source": [
    "y_pred_train = lasso_cv.predict(X_train)\n",
    "y_pred_test = lasso_cv.predict(X_test)"
   ]
  },
  {
   "cell_type": "code",
   "execution_count": 490,
   "metadata": {},
   "outputs": [
    {
     "data": {
      "text/plain": [
       "array([6.93370820e+07, 6.17252375e+07, 1.21281242e+08, ...,\n",
       "       1.03579565e+08, 7.36801933e+07, 9.78379458e+07])"
      ]
     },
     "execution_count": 490,
     "metadata": {},
     "output_type": "execute_result"
    }
   ],
   "source": [
    "y_pred_train"
   ]
  },
  {
   "cell_type": "code",
   "execution_count": 491,
   "metadata": {},
   "outputs": [
    {
     "data": {
      "text/plain": [
       "273     129000.0\n",
       "1915     87000.0\n",
       "250     290000.0\n",
       "413     139500.0\n",
       "1339    132000.0\n",
       "          ...   \n",
       "1133    196500.0\n",
       "1297    127500.0\n",
       "862     221300.0\n",
       "1462    164000.0\n",
       "1129    232600.0\n",
       "Name: SalePrice, Length: 1535, dtype: float64"
      ]
     },
     "execution_count": 491,
     "metadata": {},
     "output_type": "execute_result"
    }
   ],
   "source": [
    "y_train"
   ]
  },
  {
   "cell_type": "code",
   "execution_count": 302,
   "metadata": {},
   "outputs": [
    {
     "data": {
      "text/html": [
       "<table class=\"simpletable\">\n",
       "<caption>OLS Regression Results</caption>\n",
       "<tr>\n",
       "  <th>Dep. Variable:</th>        <td>SalePrice</td>    <th>  R-squared (uncentered):</th>      <td>   0.973</td> \n",
       "</tr>\n",
       "<tr>\n",
       "  <th>Model:</th>                   <td>OLS</td>       <th>  Adj. R-squared (uncentered):</th> <td>   0.973</td> \n",
       "</tr>\n",
       "<tr>\n",
       "  <th>Method:</th>             <td>Least Squares</td>  <th>  F-statistic:       </th>          <td>   2687.</td> \n",
       "</tr>\n",
       "<tr>\n",
       "  <th>Date:</th>             <td>Wed, 08 Apr 2020</td> <th>  Prob (F-statistic):</th>           <td>  0.00</td>  \n",
       "</tr>\n",
       "<tr>\n",
       "  <th>Time:</th>                 <td>22:14:35</td>     <th>  Log-Likelihood:    </th>          <td> -24200.</td> \n",
       "</tr>\n",
       "<tr>\n",
       "  <th>No. Observations:</th>      <td>  2049</td>      <th>  AIC:               </th>          <td>4.845e+04</td>\n",
       "</tr>\n",
       "<tr>\n",
       "  <th>Df Residuals:</th>          <td>  2022</td>      <th>  BIC:               </th>          <td>4.861e+04</td>\n",
       "</tr>\n",
       "<tr>\n",
       "  <th>Df Model:</th>              <td>    27</td>      <th>                     </th>              <td> </td>    \n",
       "</tr>\n",
       "<tr>\n",
       "  <th>Covariance Type:</th>      <td>nonrobust</td>    <th>                     </th>              <td> </td>    \n",
       "</tr>\n",
       "</table>\n",
       "<table class=\"simpletable\">\n",
       "<tr>\n",
       "         <td></td>           <th>coef</th>     <th>std err</th>      <th>t</th>      <th>P>|t|</th>  <th>[0.025</th>    <th>0.975]</th>  \n",
       "</tr>\n",
       "<tr>\n",
       "  <th>MS SubClass</th>    <td> -137.6248</td> <td>   20.939</td> <td>   -6.573</td> <td> 0.000</td> <td> -178.689</td> <td>  -96.561</td>\n",
       "</tr>\n",
       "<tr>\n",
       "  <th>Lot Frontage</th>   <td>   44.9629</td> <td>   23.577</td> <td>    1.907</td> <td> 0.057</td> <td>   -1.275</td> <td>   91.201</td>\n",
       "</tr>\n",
       "<tr>\n",
       "  <th>Lot Area</th>       <td>    0.5747</td> <td>    0.168</td> <td>    3.420</td> <td> 0.001</td> <td>    0.245</td> <td>    0.904</td>\n",
       "</tr>\n",
       "<tr>\n",
       "  <th>Overall Qual</th>   <td> 2.055e+04</td> <td>  863.617</td> <td>   23.797</td> <td> 0.000</td> <td> 1.89e+04</td> <td> 2.22e+04</td>\n",
       "</tr>\n",
       "<tr>\n",
       "  <th>Overall Cond</th>   <td> 3520.3844</td> <td>  810.138</td> <td>    4.345</td> <td> 0.000</td> <td> 1931.591</td> <td> 5109.177</td>\n",
       "</tr>\n",
       "<tr>\n",
       "  <th>Year Built</th>     <td>  130.3069</td> <td>   41.318</td> <td>    3.154</td> <td> 0.002</td> <td>   49.278</td> <td>  211.336</td>\n",
       "</tr>\n",
       "<tr>\n",
       "  <th>Year Remod/Add</th> <td> -157.2776</td> <td>   41.673</td> <td>   -3.774</td> <td> 0.000</td> <td> -239.005</td> <td>  -75.550</td>\n",
       "</tr>\n",
       "<tr>\n",
       "  <th>Mas Vnr Area</th>   <td>   31.0620</td> <td>    4.980</td> <td>    6.237</td> <td> 0.000</td> <td>   21.296</td> <td>   40.828</td>\n",
       "</tr>\n",
       "<tr>\n",
       "  <th>BsmtFin SF 1</th>   <td>   11.8183</td> <td>    2.447</td> <td>    4.830</td> <td> 0.000</td> <td>    7.019</td> <td>   16.617</td>\n",
       "</tr>\n",
       "<tr>\n",
       "  <th>Total Bsmt SF</th>  <td>    8.8848</td> <td>    3.145</td> <td>    2.825</td> <td> 0.005</td> <td>    2.717</td> <td>   15.053</td>\n",
       "</tr>\n",
       "<tr>\n",
       "  <th>1st Flr SF</th>     <td>   44.8907</td> <td>   15.155</td> <td>    2.962</td> <td> 0.003</td> <td>   15.169</td> <td>   74.612</td>\n",
       "</tr>\n",
       "<tr>\n",
       "  <th>2nd Flr SF</th>     <td>   37.2913</td> <td>   14.855</td> <td>    2.510</td> <td> 0.012</td> <td>    8.158</td> <td>   66.425</td>\n",
       "</tr>\n",
       "<tr>\n",
       "  <th>Gr Liv Area</th>    <td>   -0.9110</td> <td>   14.844</td> <td>   -0.061</td> <td> 0.951</td> <td>  -30.022</td> <td>   28.200</td>\n",
       "</tr>\n",
       "<tr>\n",
       "  <th>Bsmt Full Bath</th> <td> 9638.8009</td> <td> 1879.549</td> <td>    5.128</td> <td> 0.000</td> <td> 5952.747</td> <td> 1.33e+04</td>\n",
       "</tr>\n",
       "<tr>\n",
       "  <th>Full Bath</th>      <td>  1.12e+04</td> <td> 1996.830</td> <td>    5.611</td> <td> 0.000</td> <td> 7287.274</td> <td> 1.51e+04</td>\n",
       "</tr>\n",
       "<tr>\n",
       "  <th>Half Bath</th>      <td> 4870.9888</td> <td> 2052.897</td> <td>    2.373</td> <td> 0.018</td> <td>  844.975</td> <td> 8897.003</td>\n",
       "</tr>\n",
       "<tr>\n",
       "  <th>Bedroom AbvGr</th>  <td>-8817.0051</td> <td> 1300.039</td> <td>   -6.782</td> <td> 0.000</td> <td>-1.14e+04</td> <td>-6267.449</td>\n",
       "</tr>\n",
       "<tr>\n",
       "  <th>Kitchen AbvGr</th>  <td>-2.324e+04</td> <td> 4286.819</td> <td>   -5.421</td> <td> 0.000</td> <td>-3.16e+04</td> <td>-1.48e+04</td>\n",
       "</tr>\n",
       "<tr>\n",
       "  <th>TotRms AbvGrd</th>  <td> 4222.4633</td> <td>  982.544</td> <td>    4.297</td> <td> 0.000</td> <td> 2295.560</td> <td> 6149.367</td>\n",
       "</tr>\n",
       "<tr>\n",
       "  <th>Fireplaces</th>     <td> 2499.2662</td> <td> 1413.235</td> <td>    1.768</td> <td> 0.077</td> <td> -272.283</td> <td> 5270.815</td>\n",
       "</tr>\n",
       "<tr>\n",
       "  <th>Garage Yr Blt</th>  <td>  -14.8090</td> <td>    2.150</td> <td>   -6.887</td> <td> 0.000</td> <td>  -19.026</td> <td>  -10.592</td>\n",
       "</tr>\n",
       "<tr>\n",
       "  <th>Garage Cars</th>    <td> 1.188e+04</td> <td> 2403.995</td> <td>    4.942</td> <td> 0.000</td> <td> 7167.172</td> <td> 1.66e+04</td>\n",
       "</tr>\n",
       "<tr>\n",
       "  <th>Garage Area</th>    <td>   22.8727</td> <td>    8.178</td> <td>    2.797</td> <td> 0.005</td> <td>    6.834</td> <td>   38.911</td>\n",
       "</tr>\n",
       "<tr>\n",
       "  <th>Wood Deck SF</th>   <td>   27.5130</td> <td>    6.196</td> <td>    4.440</td> <td> 0.000</td> <td>   15.361</td> <td>   39.665</td>\n",
       "</tr>\n",
       "<tr>\n",
       "  <th>Screen Porch</th>   <td>   70.9448</td> <td>   13.044</td> <td>    5.439</td> <td> 0.000</td> <td>   45.364</td> <td>   96.526</td>\n",
       "</tr>\n",
       "<tr>\n",
       "  <th>Pool Area</th>      <td> -101.2204</td> <td>   19.827</td> <td>   -5.105</td> <td> 0.000</td> <td> -140.104</td> <td>  -62.337</td>\n",
       "</tr>\n",
       "<tr>\n",
       "  <th>Misc Val</th>       <td>  -12.2330</td> <td>    1.313</td> <td>   -9.316</td> <td> 0.000</td> <td>  -14.808</td> <td>   -9.658</td>\n",
       "</tr>\n",
       "</table>\n",
       "<table class=\"simpletable\">\n",
       "<tr>\n",
       "  <th>Omnibus:</th>       <td>798.448</td> <th>  Durbin-Watson:     </th> <td>   2.039</td> \n",
       "</tr>\n",
       "<tr>\n",
       "  <th>Prob(Omnibus):</th> <td> 0.000</td>  <th>  Jarque-Bera (JB):  </th> <td>72683.189</td>\n",
       "</tr>\n",
       "<tr>\n",
       "  <th>Skew:</th>          <td>-0.889</td>  <th>  Prob(JB):          </th> <td>    0.00</td> \n",
       "</tr>\n",
       "<tr>\n",
       "  <th>Kurtosis:</th>      <td>32.124</td>  <th>  Cond. No.          </th> <td>7.10e+04</td> \n",
       "</tr>\n",
       "</table><br/><br/>Warnings:<br/>[1] Standard Errors assume that the covariance matrix of the errors is correctly specified.<br/>[2] The condition number is large, 7.1e+04. This might indicate that there are<br/>strong multicollinearity or other numerical problems."
      ],
      "text/plain": [
       "<class 'statsmodels.iolib.summary.Summary'>\n",
       "\"\"\"\n",
       "                                 OLS Regression Results                                \n",
       "=======================================================================================\n",
       "Dep. Variable:              SalePrice   R-squared (uncentered):                   0.973\n",
       "Model:                            OLS   Adj. R-squared (uncentered):              0.973\n",
       "Method:                 Least Squares   F-statistic:                              2687.\n",
       "Date:                Wed, 08 Apr 2020   Prob (F-statistic):                        0.00\n",
       "Time:                        22:14:35   Log-Likelihood:                         -24200.\n",
       "No. Observations:                2049   AIC:                                  4.845e+04\n",
       "Df Residuals:                    2022   BIC:                                  4.861e+04\n",
       "Df Model:                          27                                                  \n",
       "Covariance Type:            nonrobust                                                  \n",
       "==================================================================================\n",
       "                     coef    std err          t      P>|t|      [0.025      0.975]\n",
       "----------------------------------------------------------------------------------\n",
       "MS SubClass     -137.6248     20.939     -6.573      0.000    -178.689     -96.561\n",
       "Lot Frontage      44.9629     23.577      1.907      0.057      -1.275      91.201\n",
       "Lot Area           0.5747      0.168      3.420      0.001       0.245       0.904\n",
       "Overall Qual    2.055e+04    863.617     23.797      0.000    1.89e+04    2.22e+04\n",
       "Overall Cond    3520.3844    810.138      4.345      0.000    1931.591    5109.177\n",
       "Year Built       130.3069     41.318      3.154      0.002      49.278     211.336\n",
       "Year Remod/Add  -157.2776     41.673     -3.774      0.000    -239.005     -75.550\n",
       "Mas Vnr Area      31.0620      4.980      6.237      0.000      21.296      40.828\n",
       "BsmtFin SF 1      11.8183      2.447      4.830      0.000       7.019      16.617\n",
       "Total Bsmt SF      8.8848      3.145      2.825      0.005       2.717      15.053\n",
       "1st Flr SF        44.8907     15.155      2.962      0.003      15.169      74.612\n",
       "2nd Flr SF        37.2913     14.855      2.510      0.012       8.158      66.425\n",
       "Gr Liv Area       -0.9110     14.844     -0.061      0.951     -30.022      28.200\n",
       "Bsmt Full Bath  9638.8009   1879.549      5.128      0.000    5952.747    1.33e+04\n",
       "Full Bath        1.12e+04   1996.830      5.611      0.000    7287.274    1.51e+04\n",
       "Half Bath       4870.9888   2052.897      2.373      0.018     844.975    8897.003\n",
       "Bedroom AbvGr  -8817.0051   1300.039     -6.782      0.000   -1.14e+04   -6267.449\n",
       "Kitchen AbvGr  -2.324e+04   4286.819     -5.421      0.000   -3.16e+04   -1.48e+04\n",
       "TotRms AbvGrd   4222.4633    982.544      4.297      0.000    2295.560    6149.367\n",
       "Fireplaces      2499.2662   1413.235      1.768      0.077    -272.283    5270.815\n",
       "Garage Yr Blt    -14.8090      2.150     -6.887      0.000     -19.026     -10.592\n",
       "Garage Cars     1.188e+04   2403.995      4.942      0.000    7167.172    1.66e+04\n",
       "Garage Area       22.8727      8.178      2.797      0.005       6.834      38.911\n",
       "Wood Deck SF      27.5130      6.196      4.440      0.000      15.361      39.665\n",
       "Screen Porch      70.9448     13.044      5.439      0.000      45.364      96.526\n",
       "Pool Area       -101.2204     19.827     -5.105      0.000    -140.104     -62.337\n",
       "Misc Val         -12.2330      1.313     -9.316      0.000     -14.808      -9.658\n",
       "==============================================================================\n",
       "Omnibus:                      798.448   Durbin-Watson:                   2.039\n",
       "Prob(Omnibus):                  0.000   Jarque-Bera (JB):            72683.189\n",
       "Skew:                          -0.889   Prob(JB):                         0.00\n",
       "Kurtosis:                      32.124   Cond. No.                     7.10e+04\n",
       "==============================================================================\n",
       "\n",
       "Warnings:\n",
       "[1] Standard Errors assume that the covariance matrix of the errors is correctly specified.\n",
       "[2] The condition number is large, 7.1e+04. This might indicate that there are\n",
       "strong multicollinearity or other numerical problems.\n",
       "\"\"\""
      ]
     },
     "execution_count": 302,
     "metadata": {},
     "output_type": "execute_result"
    }
   ],
   "source": [
    "model = sm.OLS(df_y, df_X).fit()\n",
    "model.summary()"
   ]
  },
  {
   "cell_type": "code",
   "execution_count": 310,
   "metadata": {},
   "outputs": [
    {
     "data": {
      "text/plain": [
       "84263583.67113435"
      ]
     },
     "execution_count": 310,
     "metadata": {},
     "output_type": "execute_result"
    }
   ],
   "source": [
    "mse_train = metrics.mean_squared_error(y_train, y_pred_train)\n",
    "rmse_train = np.sqrt(mse_train)\n",
    "rmse_train"
   ]
  },
  {
   "cell_type": "code",
   "execution_count": 311,
   "metadata": {},
   "outputs": [
    {
     "data": {
      "text/plain": [
       "82745093.50018339"
      ]
     },
     "execution_count": 311,
     "metadata": {},
     "output_type": "execute_result"
    }
   ],
   "source": [
    "mse_test = metrics.mean_squared_error(y_test, y_pred_test)\n",
    "rmse_test = np.sqrt(mse_test)\n",
    "rmse_test"
   ]
  },
  {
   "cell_type": "code",
   "execution_count": 312,
   "metadata": {},
   "outputs": [
    {
     "ename": "SyntaxError",
     "evalue": "invalid syntax (<ipython-input-312-89d724862734>, line 1)",
     "output_type": "error",
     "traceback": [
      "\u001b[0;36m  File \u001b[0;32m\"<ipython-input-312-89d724862734>\"\u001b[0;36m, line \u001b[0;32m1\u001b[0m\n\u001b[0;31m    Neighborhood_Landmrk, Neighborhood_IDOTRR, Neighborhood_GrnHill, Neighborhood_Greens, Neighborhood_Crawfor, Neighborhood_BrDale, Neighborhood_Blueste, Neighborhood_Blmngtn, MS Zoning_RL, MS Zoning_RH, MS Zoning_FV, Yr Sold_2006, Misc Val, 3Ssn Porch, Id, PID, MS SubClass, Lot Frontage, Bsmt Unf SF, Low Qual Fin SF, Bsmt Full Bath, Bsmt Half Bath, Half Bath, Garage Yr Blt, Open Porch SF, Enclosed Porch\u001b[0m\n\u001b[0m                                                                                                                                                                                            ^\u001b[0m\n\u001b[0;31mSyntaxError\u001b[0m\u001b[0;31m:\u001b[0m invalid syntax\n"
     ]
    }
   ],
   "source": [
    "Neighborhood_Landmrk, Neighborhood_IDOTRR, Neighborhood_GrnHill, Neighborhood_Greens, Neighborhood_Crawfor, Neighborhood_BrDale, Neighborhood_Blueste, Neighborhood_Blmngtn, MS Zoning_RL, MS Zoning_RH, MS Zoning_FV, Yr Sold_2006, Misc Val, 3Ssn Porch, Id, PID, MS SubClass, Lot Frontage, Bsmt Unf SF, Low Qual Fin SF, Bsmt Full Bath, Bsmt Half Bath, Half Bath, Garage Yr Blt, Open Porch SF, Enclosed Porch"
   ]
  },
  {
   "cell_type": "code",
   "execution_count": null,
   "metadata": {},
   "outputs": [],
   "source": [
    "model = sm.OLS(df_y, df_X).fit()\n",
    "model.summary()"
   ]
  },
  {
   "cell_type": "code",
   "execution_count": null,
   "metadata": {},
   "outputs": [],
   "source": []
  },
  {
   "cell_type": "code",
   "execution_count": null,
   "metadata": {},
   "outputs": [],
   "source": []
  },
  {
   "cell_type": "code",
   "execution_count": null,
   "metadata": {},
   "outputs": [],
   "source": []
  },
  {
   "cell_type": "code",
   "execution_count": null,
   "metadata": {},
   "outputs": [],
   "source": []
  },
  {
   "cell_type": "code",
   "execution_count": null,
   "metadata": {},
   "outputs": [],
   "source": []
  },
  {
   "cell_type": "code",
   "execution_count": null,
   "metadata": {},
   "outputs": [],
   "source": [
    "features_house = ['Garage Area', 'MS Zoning', 'Lot Area', 'Neighborhood', 'Mo Sold', 'Yr Sold', 'Overall Qual', \n",
    "            'Year Remod/Add', 'SalePrice', 'data_type']"
   ]
  },
  {
   "cell_type": "code",
   "execution_count": null,
   "metadata": {},
   "outputs": [],
   "source": [
    "df = df[features_house]"
   ]
  },
  {
   "cell_type": "code",
   "execution_count": null,
   "metadata": {},
   "outputs": [],
   "source": [
    "df = pd.get_dummies(df, columns = ['MS Zoning', 'Neighborhood', 'Mo Sold', 'Yr Sold', 'Year Remod/Add'])"
   ]
  },
  {
   "cell_type": "code",
   "execution_count": null,
   "metadata": {},
   "outputs": [],
   "source": [
    "df = df[df['Garage Area'].notnull()]"
   ]
  },
  {
   "cell_type": "code",
   "execution_count": null,
   "metadata": {},
   "outputs": [],
   "source": [
    "df.isnull().sum()"
   ]
  },
  {
   "cell_type": "code",
   "execution_count": null,
   "metadata": {},
   "outputs": [],
   "source": [
    "df_test = df[df['data_type'] == 'test']\n",
    "df_test.shape"
   ]
  },
  {
   "cell_type": "code",
   "execution_count": null,
   "metadata": {},
   "outputs": [],
   "source": [
    "df_train = df[df['data_type'] == 1]\n",
    "df_train.shape"
   ]
  },
  {
   "cell_type": "code",
   "execution_count": null,
   "metadata": {},
   "outputs": [],
   "source": [
    "df_train.head(2)"
   ]
  },
  {
   "cell_type": "code",
   "execution_count": null,
   "metadata": {},
   "outputs": [],
   "source": [
    "y = df_train['SalePrice']\n",
    "X = df_train.drop(columns = ['SalePrice', 'data_type'])\n",
    "\n",
    "X_train, X_test, y_train, y_test = train_test_split(X, y, random_state = 42)\n",
    "\n",
    "lr = LinearRegression()\n",
    "lr.fit(X_train,y_train)\n",
    "\n",
    "y_pred_train = lr.predict(X_train)\n",
    "y_pred_test = lr.predict(X_test)\n",
    "\n",
    "mse_train = metrics.mean_squared_error(y_train, y_pred_train)\n",
    "rmse_train = np.sqrt(mse_train)\n",
    "print(\"rmse_train: \", rmse_train)\n",
    "\n",
    "mse_test = metrics.mean_squared_error(y_test, y_pred_test)\n",
    "rmse_test = np.sqrt(mse_test)\n",
    "print(\"rmse_test: \", rmse_test)\n",
    "\n",
    "cv_scores = cross_val_score(lr, X, y, cv=5).mean()\n",
    "print('cv =', cv_scores)"
   ]
  },
  {
   "cell_type": "code",
   "execution_count": null,
   "metadata": {},
   "outputs": [],
   "source": [
    "df_test.shape"
   ]
  },
  {
   "cell_type": "code",
   "execution_count": null,
   "metadata": {},
   "outputs": [],
   "source": []
  },
  {
   "cell_type": "code",
   "execution_count": null,
   "metadata": {},
   "outputs": [],
   "source": [
    "X_final = df_test.drop(columns = ['SalePrice', 'data_type'])"
   ]
  },
  {
   "cell_type": "code",
   "execution_count": null,
   "metadata": {},
   "outputs": [],
   "source": [
    "X_final.head()"
   ]
  },
  {
   "cell_type": "code",
   "execution_count": null,
   "metadata": {},
   "outputs": [],
   "source": [
    "SalePrice = lr.predict(X_final)"
   ]
  },
  {
   "cell_type": "code",
   "execution_count": null,
   "metadata": {},
   "outputs": [],
   "source": [
    "SalePrice.shape"
   ]
  },
  {
   "cell_type": "code",
   "execution_count": null,
   "metadata": {},
   "outputs": [],
   "source": [
    "house_test.shape"
   ]
  },
  {
   "cell_type": "code",
   "execution_count": null,
   "metadata": {},
   "outputs": [],
   "source": [
    "Answer = pd.DataFrame(house_test['Id'])"
   ]
  },
  {
   "cell_type": "code",
   "execution_count": null,
   "metadata": {},
   "outputs": [],
   "source": [
    "#Answer = pd.DataFrame(house_test['Id'])\n",
    "#Answer.drop(df.tail(1).index,inplace=True)\n",
    "Answer['SalePrice'] = SalePrice\n",
    "Answer.tail()"
   ]
  },
  {
   "cell_type": "code",
   "execution_count": null,
   "metadata": {},
   "outputs": [],
   "source": [
    "Answer.to_csv('../datasets/submit_1.csv')"
   ]
  },
  {
   "cell_type": "code",
   "execution_count": null,
   "metadata": {},
   "outputs": [],
   "source": [
    "check = pd.read_csv('../datasets/submit_1.csv')"
   ]
  },
  {
   "cell_type": "code",
   "execution_count": null,
   "metadata": {},
   "outputs": [],
   "source": [
    "check.drop(columns = 'Unnamed: 0', inplace = True)"
   ]
  },
  {
   "cell_type": "code",
   "execution_count": null,
   "metadata": {},
   "outputs": [],
   "source": [
    "check.shape"
   ]
  },
  {
   "cell_type": "code",
   "execution_count": null,
   "metadata": {},
   "outputs": [],
   "source": [
    "check.to_csv('../datasets/submit_1.csv', index = False)"
   ]
  },
  {
   "cell_type": "code",
   "execution_count": null,
   "metadata": {},
   "outputs": [],
   "source": [
    "check2 = pd.read_csv('../datasets/submit_1.csv')"
   ]
  },
  {
   "cell_type": "code",
   "execution_count": null,
   "metadata": {},
   "outputs": [],
   "source": [
    "check2.shape"
   ]
  },
  {
   "cell_type": "code",
   "execution_count": null,
   "metadata": {},
   "outputs": [],
   "source": [
    "check.head()"
   ]
  },
  {
   "cell_type": "code",
   "execution_count": null,
   "metadata": {},
   "outputs": [],
   "source": [
    "Answer.shape"
   ]
  },
  {
   "cell_type": "code",
   "execution_count": null,
   "metadata": {},
   "outputs": [],
   "source": [
    "Answer.head()"
   ]
  },
  {
   "cell_type": "code",
   "execution_count": null,
   "metadata": {},
   "outputs": [],
   "source": [
    "house_test.head()"
   ]
  },
  {
   "cell_type": "code",
   "execution_count": null,
   "metadata": {},
   "outputs": [],
   "source": [
    "house_test.head()"
   ]
  },
  {
   "cell_type": "code",
   "execution_count": null,
   "metadata": {},
   "outputs": [],
   "source": [
    "sample = pd.read_csv('../datasets/sample_sub_reg.csv')"
   ]
  },
  {
   "cell_type": "code",
   "execution_count": null,
   "metadata": {},
   "outputs": [],
   "source": [
    "sample.shape"
   ]
  },
  {
   "cell_type": "code",
   "execution_count": null,
   "metadata": {},
   "outputs": [],
   "source": [
    "sample.head()"
   ]
  },
  {
   "cell_type": "code",
   "execution_count": null,
   "metadata": {},
   "outputs": [],
   "source": [
    "house.info()"
   ]
  },
  {
   "cell_type": "code",
   "execution_count": null,
   "metadata": {},
   "outputs": [],
   "source": [
    "house.describe().T"
   ]
  },
  {
   "cell_type": "code",
   "execution_count": null,
   "metadata": {},
   "outputs": [],
   "source": [
    "# check nulls\n",
    "\n",
    "for i in house.columns:\n",
    "    if house[i].isnull().sum() > 0:\n",
    "        print(f'{i} = {house[i].isnull().sum()}')"
   ]
  },
  {
   "cell_type": "code",
   "execution_count": null,
   "metadata": {},
   "outputs": [],
   "source": [
    "X = New_house[features]\n",
    "\n",
    "y = New_house['SalePrice']\n",
    "\n",
    "X_train, X_test, y_train, y_test = train_test_split(X, y, random_state = 42)\n",
    "\n",
    "lr = LinearRegression()\n",
    "\n",
    "lr.fit(X_train,y_train)\n",
    "\n",
    "y_pred_train = lr.predict(X_train)\n",
    "y_pred_test = lr.predict(X_test)\n",
    "\n",
    "mse_train = metrics.mean_squared_error(y_train, y_pred_train)\n",
    "rmse_train = np.sqrt(mse_train)\n",
    "rmse_train\n",
    "\n",
    "mse_test = metrics.mean_squared_error(y_test, y_pred_test)\n",
    "rmse_test = np.sqrt(mse_test)\n",
    "rmse_test\n",
    "\n",
    "cv_scores = cross_val_score(lr, X, y).mean()"
   ]
  },
  {
   "cell_type": "code",
   "execution_count": null,
   "metadata": {},
   "outputs": [],
   "source": [
    "cv_scores.mean()"
   ]
  },
  {
   "cell_type": "code",
   "execution_count": null,
   "metadata": {},
   "outputs": [],
   "source": [
    "X.head(2)"
   ]
  },
  {
   "cell_type": "code",
   "execution_count": null,
   "metadata": {},
   "outputs": [],
   "source": [
    "house.shape"
   ]
  },
  {
   "cell_type": "code",
   "execution_count": null,
   "metadata": {},
   "outputs": [],
   "source": [
    "house['SalePrice'].sort_values()"
   ]
  },
  {
   "cell_type": "markdown",
   "metadata": {},
   "source": [
    "best predictors = continuous\n",
    "\n",
    "MSSubClass: building class\n",
    "MSZoning: general zoning classification\n",
    "LotFrontage: Linear feet of street connected to property\n",
    "LotArea: Lot size in square feet\n",
    "Street: Type of road access to property\n",
    "Alley: Type of alley access to property\n",
    "LotShape: General shape of property\n",
    "LandContour: Flatness of the property\n",
    "Utilities: Type of utilities available\n",
    "LotConfig: Lot configuration\n",
    "LandSlope: Slope of property\n",
    "Neighborhood: Physical locations within Ames city limits\n",
    "Condition1: Proximity to main road or railroad\n",
    "Condition2: Proximity to main road or railroad (if a second is present)\n",
    "BldgType: Type of dwelling\n",
    "HouseStyle: Style of dwelling\n",
    "OverallQual: Overall material and finish quality\n",
    "OverallCond: Overall condition rating\n",
    "YearBuilt: Original construction date\n",
    "YearRemodAdd: Remodel date (same as construction date if no remodeling or additions)\n",
    "RoofStyle: Type of roof\n",
    "RoofMatl: Roof material\n",
    "Exterior1st: Exterior covering on house\n",
    "Exterior2nd: Exterior covering on house (if more than one material)\n",
    "MasVnrType: Masonry veneer type\n",
    "MasVnrArea: Masonry veneer area in square feet\n",
    "ExterQual: Exterior material quality\n",
    "ExterCond: Present condition of the material on the exterior\n",
    "Foundation: Type of foundation\n",
    "BsmtQual: Height of the basement\n",
    "BsmtCond: General condition of the basement\n",
    "BsmtExposure: Walkout or garden level basement walls\n",
    "BsmtFinType1: Quality of basement finished area\n",
    "BsmtFinSF1: Type 1 finished square feet\n",
    "BsmtFinType2: Quality of second finished area (if present)\n",
    "BsmtFinSF2: Type 2 finished square feet\n",
    "BsmtUnfSF: Unfinished square feet of basement area\n",
    "TotalBsmtSF: Total square feet of basement area\n",
    "Heating: Type of heating\n",
    "HeatingQC: Heating quality and condition\n",
    "CentralAir: Central air conditioning\n",
    "Electrical: Electrical system\n",
    "1stFlrSF: First Floor square feet\n",
    "2ndFlrSF: Second floor square feet\n",
    "LowQualFinSF: Low quality finished square feet (all floors)\n",
    "GrLivArea: Above grade (ground) living area square feet\n",
    "BsmtFullBath: Basement full bathrooms\n",
    "BsmtHalfBath: Basement half bathrooms\n",
    "FullBath: Full bathrooms above grade\n",
    "HalfBath: Half baths above grade\n",
    "Bedroom: Number of bedrooms above basement level\n",
    "Kitchen: Number of kitchens\n",
    "KitchenQual: Kitchen quality\n",
    "TotRmsAbvGrd: Total rooms above grade (does not include bathrooms)\n",
    "Functional: Home functionality rating\n",
    "Fireplaces: Number of fireplaces\n",
    "FireplaceQu: Fireplace quality\n",
    "GarageType: Garage location\n",
    "GarageYrBlt: Year garage was built\n",
    "GarageFinish: Interior finish of the garage\n",
    "GarageCars: Size of garage in car capacity\n",
    "GarageArea: Size of garage in square feet\n",
    "GarageQual: Garage quality\n",
    "GarageCond: Garage condition\n",
    "PavedDrive: Paved driveway\n",
    "WoodDeckSF: Wood deck area in square feet\n",
    "OpenPorchSF: Open porch area in square feet\n",
    "EnclosedPorch: Enclosed porch area in square feet\n",
    "3SsnPorch: Three season porch area in square feet\n",
    "ScreenPorch: Screen porch area in square feet\n",
    "PoolArea: Pool area in square feet\n",
    "PoolQC: Pool quality\n",
    "Fence: Fence quality\n",
    "MiscFeature: Miscellaneous feature not covered in other categories\n",
    "MiscVal: $Value of miscellaneous feature\n",
    "MoSold: Month Sold\n",
    "YrSold: Year Sold\n",
    "SaleType: Type of sale"
   ]
  },
  {
   "cell_type": "code",
   "execution_count": null,
   "metadata": {},
   "outputs": [],
   "source": [
    "house.shape"
   ]
  },
  {
   "cell_type": "code",
   "execution_count": null,
   "metadata": {
    "scrolled": true
   },
   "outputs": [],
   "source": [
    "house.hist(column = ['Yr Sold', 'Mo Sold', 'Garage Area', 'Fireplace Qu'], figsize=(12,8));"
   ]
  },
  {
   "cell_type": "code",
   "execution_count": null,
   "metadata": {},
   "outputs": [],
   "source": [
    "house.hist(column = ['SalePrice', 'Lot Frontage', 'Lot Area', 'Overall Qual', 'Year Remod/Add'], figsize=(12,8));"
   ]
  },
  {
   "cell_type": "code",
   "execution_count": null,
   "metadata": {},
   "outputs": [],
   "source": [
    "house = house[house['Garage Area'].notnull()]"
   ]
  },
  {
   "cell_type": "code",
   "execution_count": null,
   "metadata": {},
   "outputs": [],
   "source": [
    "features = ['Mo Sold', 'Garage Area', 'Overall Qual']\n",
    "X = house[features]\n",
    "y = house['SalePrice']"
   ]
  },
  {
   "cell_type": "code",
   "execution_count": null,
   "metadata": {},
   "outputs": [],
   "source": [
    "X_train, X_test, y_train, y_test = train_test_split(X, y)"
   ]
  },
  {
   "cell_type": "code",
   "execution_count": null,
   "metadata": {},
   "outputs": [],
   "source": [
    "lr = LinearRegression()\n",
    "lr.fit(X_train, y_train)"
   ]
  },
  {
   "cell_type": "code",
   "execution_count": null,
   "metadata": {
    "scrolled": true
   },
   "outputs": [],
   "source": [
    "y_pred = lr.predict(X_train)\n",
    "residuals = y_train - y_pred\n",
    "residuals.hist()"
   ]
  },
  {
   "cell_type": "code",
   "execution_count": null,
   "metadata": {},
   "outputs": [],
   "source": [
    "y_pred2 = lr.predict(X_test)\n",
    "residuals = y_test - y_pred2\n",
    "residuals.hist()"
   ]
  },
  {
   "cell_type": "code",
   "execution_count": null,
   "metadata": {},
   "outputs": [],
   "source": [
    "lr.score(X_train, y_train)"
   ]
  },
  {
   "cell_type": "code",
   "execution_count": null,
   "metadata": {},
   "outputs": [],
   "source": [
    "lr.score(X_test, y_test)"
   ]
  },
  {
   "cell_type": "code",
   "execution_count": null,
   "metadata": {},
   "outputs": [],
   "source": [
    "cross_val_score(lr, X_train, y_train, cv = 5).mean()"
   ]
  },
  {
   "cell_type": "code",
   "execution_count": null,
   "metadata": {},
   "outputs": [],
   "source": [
    "house_test = pd.read_csv('../datasets/test.csv')"
   ]
  },
  {
   "cell_type": "code",
   "execution_count": null,
   "metadata": {},
   "outputs": [],
   "source": [
    "X_test = house_test[features]\n",
    "y_pred = lr.predict(X_test)"
   ]
  },
  {
   "cell_type": "code",
   "execution_count": null,
   "metadata": {},
   "outputs": [],
   "source": [
    "mse = metrics.mean_squared_error(y_true, y_pred)\n",
    "    rmse = np.sqrt(mse)"
   ]
  }
 ],
 "metadata": {
  "kernelspec": {
   "display_name": "Python 3",
   "language": "python",
   "name": "python3"
  },
  "language_info": {
   "codemirror_mode": {
    "name": "ipython",
    "version": 3
   },
   "file_extension": ".py",
   "mimetype": "text/x-python",
   "name": "python",
   "nbconvert_exporter": "python",
   "pygments_lexer": "ipython3",
   "version": "3.7.6"
  }
 },
 "nbformat": 4,
 "nbformat_minor": 4
}
